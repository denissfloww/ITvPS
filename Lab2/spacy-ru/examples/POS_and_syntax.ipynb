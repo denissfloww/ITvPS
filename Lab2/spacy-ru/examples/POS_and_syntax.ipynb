{
 "cells": [
  {
   "cell_type": "code",
   "execution_count": 1,
   "metadata": {
    "pycharm": {
     "is_executing": false,
     "name": "#%%\n"
    }
   },
   "outputs": [],
   "source": [
    "%load_ext autoreload\n",
    "%autoreload 2"
   ]
  },
  {
   "cell_type": "code",
   "execution_count": 2,
   "metadata": {
    "pycharm": {
     "is_executing": false,
     "name": "#%%\n"
    }
   },
   "outputs": [],
   "source": [
    "import sys\n",
    "sys.path.append('..')\n",
    "import pandas as pd\n",
    "import spacy\n",
    "import ru2\n",
    "from IPython.display import display\n",
    "pd.set_option('display.max_colwidth', 200)"
   ]
  },
  {
   "cell_type": "code",
   "execution_count": 3,
   "metadata": {
    "pycharm": {
     "is_executing": false
    }
   },
   "outputs": [
    {
     "name": "stdout",
     "text": [
      "RU pipeline: ['sentencizer', 'tagger', 'parser', 'ner']\n"
     ],
     "output_type": "stream"
    }
   ],
   "source": [
    "pbool = lambda x: '+' if x else '-'\n",
    "def pipe_add(n, names=['sentencizer']):\n",
    "    pos = 0\n",
    "    for x in names:\n",
    "        if not x in n.pipe_names:\n",
    "            if pos >= len(n.pipe_names):\n",
    "                n.add_pipe(n.create_pipe(x))\n",
    "                pos += 1\n",
    "            else:\n",
    "                n.add_pipe(n.create_pipe(x), before=n.pipe_names[pos])\n",
    "                pos += 1\n",
    "    return n\n",
    "\n",
    "nlp_ru=pipe_add(spacy.load('../ru2'), ['sentencizer', 'tagger', 'parser'])\n",
    "print(\"RU pipeline: {}\".format(nlp_ru.pipe_names))"
   ]
  },
  {
   "cell_type": "code",
   "execution_count": 4,
   "metadata": {
    "pycharm": {
     "is_executing": false
    }
   },
   "outputs": [
    {
     "name": "stdout",
     "text": [
      "NLP=spacy.lang.ru.Russian Text=Она дочь человека из соседней галактики . Славим дочь человека ! \n"
     ],
     "output_type": "stream"
    },
    {
     "data": {
      "text/plain": "                                    Sentence\n0  Она дочь человека из соседней галактики .\n1                     Славим дочь человека !",
      "text/html": "<div>\n<style scoped>\n    .dataframe tbody tr th:only-of-type {\n        vertical-align: middle;\n    }\n\n    .dataframe tbody tr th {\n        vertical-align: top;\n    }\n\n    .dataframe thead th {\n        text-align: right;\n    }\n</style>\n<table border=\"1\" class=\"dataframe\">\n  <thead>\n    <tr style=\"text-align: right;\">\n      <th></th>\n      <th>Sentence</th>\n    </tr>\n  </thead>\n  <tbody>\n    <tr>\n      <th>0</th>\n      <td>Она дочь человека из соседней галактики .</td>\n    </tr>\n    <tr>\n      <th>1</th>\n      <td>Славим дочь человека !</td>\n    </tr>\n  </tbody>\n</table>\n</div>"
     },
     "metadata": {},
     "output_type": "display_data"
    },
    {
     "data": {
      "text/plain": "    shape vocab    POS       text  \\\n0     Xxx     +   PRON        Она   \n1    xxxx     +   NOUN       дочь   \n2    xxxx     +   NOUN   человека   \n3      xx     +    ADP         из   \n4    xxxx     +    ADJ   соседней   \n5    xxxx     +   NOUN  галактики   \n6       .     +  PUNCT          .   \n7   Xxxxx     -   VERB     Славим   \n8    xxxx     +   NOUN       дочь   \n9    xxxx     +   NOUN   человека   \n10      !     +  PUNCT          !   \n\n                                                                                 tag  \\\n0                                     PRON__Case=Nom|Gender=Fem|Number=Sing|Person=3   \n1                                 NOUN__Animacy=Anim|Case=Nom|Gender=Fem|Number=Sing   \n2                                NOUN__Animacy=Anim|Case=Gen|Gender=Masc|Number=Sing   \n3                                                                             ADP___   \n4                                    ADJ__Case=Gen|Degree=Pos|Gender=Fem|Number=Sing   \n5                                 NOUN__Animacy=Inan|Case=Gen|Gender=Fem|Number=Sing   \n6                                                                           PUNCT___   \n7   VERB__Aspect=Perf|Mood=Ind|Number=Plur|Person=1|Tense=Fut|VerbForm=Fin|Voice=Act   \n8                                 NOUN__Animacy=Anim|Case=Nom|Gender=Fem|Number=Sing   \n9                                NOUN__Animacy=Anim|Case=Gen|Gender=Masc|Number=Sing   \n10                                                                          PUNCT___   \n\n        lemma    dep       head  \n0         она  nsubj       дочь  \n1        дочь   ROOT       дочь  \n2     человек    obj       дочь  \n3          из   case  галактики  \n4    соседний   amod  галактики  \n5   галактика    obl       дочь  \n6           .  punct       дочь  \n7      славим   ROOT     Славим  \n8        дочь    obj     Славим  \n9     человек   nmod       дочь  \n10          !  punct     Славим  ",
      "text/html": "<div>\n<style scoped>\n    .dataframe tbody tr th:only-of-type {\n        vertical-align: middle;\n    }\n\n    .dataframe tbody tr th {\n        vertical-align: top;\n    }\n\n    .dataframe thead th {\n        text-align: right;\n    }\n</style>\n<table border=\"1\" class=\"dataframe\">\n  <thead>\n    <tr style=\"text-align: right;\">\n      <th></th>\n      <th>shape</th>\n      <th>vocab</th>\n      <th>POS</th>\n      <th>text</th>\n      <th>tag</th>\n      <th>lemma</th>\n      <th>dep</th>\n      <th>head</th>\n    </tr>\n  </thead>\n  <tbody>\n    <tr>\n      <th>0</th>\n      <td>Xxx</td>\n      <td>+</td>\n      <td>PRON</td>\n      <td>Она</td>\n      <td>PRON__Case=Nom|Gender=Fem|Number=Sing|Person=3</td>\n      <td>она</td>\n      <td>nsubj</td>\n      <td>дочь</td>\n    </tr>\n    <tr>\n      <th>1</th>\n      <td>xxxx</td>\n      <td>+</td>\n      <td>NOUN</td>\n      <td>дочь</td>\n      <td>NOUN__Animacy=Anim|Case=Nom|Gender=Fem|Number=Sing</td>\n      <td>дочь</td>\n      <td>ROOT</td>\n      <td>дочь</td>\n    </tr>\n    <tr>\n      <th>2</th>\n      <td>xxxx</td>\n      <td>+</td>\n      <td>NOUN</td>\n      <td>человека</td>\n      <td>NOUN__Animacy=Anim|Case=Gen|Gender=Masc|Number=Sing</td>\n      <td>человек</td>\n      <td>obj</td>\n      <td>дочь</td>\n    </tr>\n    <tr>\n      <th>3</th>\n      <td>xx</td>\n      <td>+</td>\n      <td>ADP</td>\n      <td>из</td>\n      <td>ADP___</td>\n      <td>из</td>\n      <td>case</td>\n      <td>галактики</td>\n    </tr>\n    <tr>\n      <th>4</th>\n      <td>xxxx</td>\n      <td>+</td>\n      <td>ADJ</td>\n      <td>соседней</td>\n      <td>ADJ__Case=Gen|Degree=Pos|Gender=Fem|Number=Sing</td>\n      <td>соседний</td>\n      <td>amod</td>\n      <td>галактики</td>\n    </tr>\n    <tr>\n      <th>5</th>\n      <td>xxxx</td>\n      <td>+</td>\n      <td>NOUN</td>\n      <td>галактики</td>\n      <td>NOUN__Animacy=Inan|Case=Gen|Gender=Fem|Number=Sing</td>\n      <td>галактика</td>\n      <td>obl</td>\n      <td>дочь</td>\n    </tr>\n    <tr>\n      <th>6</th>\n      <td>.</td>\n      <td>+</td>\n      <td>PUNCT</td>\n      <td>.</td>\n      <td>PUNCT___</td>\n      <td>.</td>\n      <td>punct</td>\n      <td>дочь</td>\n    </tr>\n    <tr>\n      <th>7</th>\n      <td>Xxxxx</td>\n      <td>-</td>\n      <td>VERB</td>\n      <td>Славим</td>\n      <td>VERB__Aspect=Perf|Mood=Ind|Number=Plur|Person=1|Tense=Fut|VerbForm=Fin|Voice=Act</td>\n      <td>славим</td>\n      <td>ROOT</td>\n      <td>Славим</td>\n    </tr>\n    <tr>\n      <th>8</th>\n      <td>xxxx</td>\n      <td>+</td>\n      <td>NOUN</td>\n      <td>дочь</td>\n      <td>NOUN__Animacy=Anim|Case=Nom|Gender=Fem|Number=Sing</td>\n      <td>дочь</td>\n      <td>obj</td>\n      <td>Славим</td>\n    </tr>\n    <tr>\n      <th>9</th>\n      <td>xxxx</td>\n      <td>+</td>\n      <td>NOUN</td>\n      <td>человека</td>\n      <td>NOUN__Animacy=Anim|Case=Gen|Gender=Masc|Number=Sing</td>\n      <td>человек</td>\n      <td>nmod</td>\n      <td>дочь</td>\n    </tr>\n    <tr>\n      <th>10</th>\n      <td>!</td>\n      <td>+</td>\n      <td>PUNCT</td>\n      <td>!</td>\n      <td>PUNCT___</td>\n      <td>!</td>\n      <td>punct</td>\n      <td>Славим</td>\n    </tr>\n  </tbody>\n</table>\n</div>"
     },
     "metadata": {},
     "output_type": "display_data"
    }
   ],
   "source": [
    "def parse(nlp, text):\n",
    "    pbool = lambda x: '+' if x else '-'\n",
    "    doc = nlp(text)\n",
    "    sents=pd.DataFrame(data=[(str(s),) for s in doc.sents], columns=['Sentence']);\n",
    "    print('NLP={}.{} Text={}'.format(nlp.__class__.__module__, nlp.__class__.__name__, doc))\n",
    "    display(sents.head())\n",
    "    toks=pd.DataFrame(data=[(t.shape_, pbool(t.orth_ in nlp.vocab), t.pos_,\n",
    "                             t.text, t.tag_, t.lemma_, t.dep_, t.head) for t in doc],\n",
    "                     columns=['shape', 'vocab', 'POS', 'text', 'tag', 'lemma', 'dep', 'head']);\n",
    "    display(toks)\n",
    "    #from spacy import displacy\n",
    "    #displacy.serve(doc, style='dep')\n",
    "text = 'Она дочь человека из соседней галактики . Славим дочь человека ! ' # + 'Карамамба !' \n",
    "#text = 'Налоги пропитаны потом всякого, кто трудится .'\n",
    "parse(nlp_ru, text)\n"
   ]
  },
  {
   "cell_type": "code",
   "execution_count": 5,
   "metadata": {
    "pycharm": {
     "is_executing": false
    }
   },
   "outputs": [
    {
     "name": "stdout",
     "text": [
      "Set lemma for selected POS tag: \t SPACE {'POS': 'SPACE'}\nSet lemma for selected POS tag: \n SPACE {'POS': 'SPACE'}\nSet lemma for selected POS tag:   SPACE {'POS': 'SPACE'}\nSet lemma for selected POS tag: \\n SPACE {'POS': 'SPACE'}\nSet lemma for selected POS tag: \\t SPACE {'POS': 'SPACE'}\nSet lemma for selected POS tag:   SPACE {'POS': 'SPACE'}\nR2 pipeline: ['sentencizer']\nNLP=ru2.Russian2 Text=Она дочь человека из соседней галактики . Славим дочь человека ! \n",
      "No tagger, so we do Lemmatizer.lookup: Она\nNo tagger, so we do Lemmatizer.lookup: дочь\nNo tagger, so we do Lemmatizer.lookup: человека\nNo tagger, so we do Lemmatizer.lookup: из\nFound 2 lookup alternatives for: из\nNo tagger, so we do Lemmatizer.lookup: соседней\nNo tagger, so we do Lemmatizer.lookup: галактики\nNo tagger, so we do Lemmatizer.lookup: .\nNo tagger, so we do Lemmatizer.lookup: Славим\nNo tagger, so we do Lemmatizer.lookup: дочь\nNo tagger, so we do Lemmatizer.lookup: человека\nNo tagger, so we do Lemmatizer.lookup: !\n"
     ],
     "output_type": "stream"
    },
    {
     "data": {
      "text/plain": "                                    Sentence\n0  Она дочь человека из соседней галактики .\n1                     Славим дочь человека !",
      "text/html": "<div>\n<style scoped>\n    .dataframe tbody tr th:only-of-type {\n        vertical-align: middle;\n    }\n\n    .dataframe tbody tr th {\n        vertical-align: top;\n    }\n\n    .dataframe thead th {\n        text-align: right;\n    }\n</style>\n<table border=\"1\" class=\"dataframe\">\n  <thead>\n    <tr style=\"text-align: right;\">\n      <th></th>\n      <th>Sentence</th>\n    </tr>\n  </thead>\n  <tbody>\n    <tr>\n      <th>0</th>\n      <td>Она дочь человека из соседней галактики .</td>\n    </tr>\n    <tr>\n      <th>1</th>\n      <td>Славим дочь человека !</td>\n    </tr>\n  </tbody>\n</table>\n</div>"
     },
     "metadata": {},
     "output_type": "display_data"
    },
    {
     "data": {
      "text/plain": "    shape vocab POS       text tag      lemma dep       head\n0     Xxx     +            Она            она            Она\n1    xxxx     +           дочь           дочь           дочь\n2    xxxx     +       человека        человек       человека\n3      xx     +             из             из             из\n4    xxxx     +       соседней       соседний       соседней\n5    xxxx     +      галактики      галактика      галактики\n6       .     +              .              .              .\n7   Xxxxx     +         Славим        славить         Славим\n8    xxxx     +           дочь           дочь           дочь\n9    xxxx     +       человека        человек       человека\n10      !     +              !              !              !",
      "text/html": "<div>\n<style scoped>\n    .dataframe tbody tr th:only-of-type {\n        vertical-align: middle;\n    }\n\n    .dataframe tbody tr th {\n        vertical-align: top;\n    }\n\n    .dataframe thead th {\n        text-align: right;\n    }\n</style>\n<table border=\"1\" class=\"dataframe\">\n  <thead>\n    <tr style=\"text-align: right;\">\n      <th></th>\n      <th>shape</th>\n      <th>vocab</th>\n      <th>POS</th>\n      <th>text</th>\n      <th>tag</th>\n      <th>lemma</th>\n      <th>dep</th>\n      <th>head</th>\n    </tr>\n  </thead>\n  <tbody>\n    <tr>\n      <th>0</th>\n      <td>Xxx</td>\n      <td>+</td>\n      <td></td>\n      <td>Она</td>\n      <td></td>\n      <td>она</td>\n      <td></td>\n      <td>Она</td>\n    </tr>\n    <tr>\n      <th>1</th>\n      <td>xxxx</td>\n      <td>+</td>\n      <td></td>\n      <td>дочь</td>\n      <td></td>\n      <td>дочь</td>\n      <td></td>\n      <td>дочь</td>\n    </tr>\n    <tr>\n      <th>2</th>\n      <td>xxxx</td>\n      <td>+</td>\n      <td></td>\n      <td>человека</td>\n      <td></td>\n      <td>человек</td>\n      <td></td>\n      <td>человека</td>\n    </tr>\n    <tr>\n      <th>3</th>\n      <td>xx</td>\n      <td>+</td>\n      <td></td>\n      <td>из</td>\n      <td></td>\n      <td>из</td>\n      <td></td>\n      <td>из</td>\n    </tr>\n    <tr>\n      <th>4</th>\n      <td>xxxx</td>\n      <td>+</td>\n      <td></td>\n      <td>соседней</td>\n      <td></td>\n      <td>соседний</td>\n      <td></td>\n      <td>соседней</td>\n    </tr>\n    <tr>\n      <th>5</th>\n      <td>xxxx</td>\n      <td>+</td>\n      <td></td>\n      <td>галактики</td>\n      <td></td>\n      <td>галактика</td>\n      <td></td>\n      <td>галактики</td>\n    </tr>\n    <tr>\n      <th>6</th>\n      <td>.</td>\n      <td>+</td>\n      <td></td>\n      <td>.</td>\n      <td></td>\n      <td>.</td>\n      <td></td>\n      <td>.</td>\n    </tr>\n    <tr>\n      <th>7</th>\n      <td>Xxxxx</td>\n      <td>+</td>\n      <td></td>\n      <td>Славим</td>\n      <td></td>\n      <td>славить</td>\n      <td></td>\n      <td>Славим</td>\n    </tr>\n    <tr>\n      <th>8</th>\n      <td>xxxx</td>\n      <td>+</td>\n      <td></td>\n      <td>дочь</td>\n      <td></td>\n      <td>дочь</td>\n      <td></td>\n      <td>дочь</td>\n    </tr>\n    <tr>\n      <th>9</th>\n      <td>xxxx</td>\n      <td>+</td>\n      <td></td>\n      <td>человека</td>\n      <td></td>\n      <td>человек</td>\n      <td></td>\n      <td>человека</td>\n    </tr>\n    <tr>\n      <th>10</th>\n      <td>!</td>\n      <td>+</td>\n      <td></td>\n      <td>!</td>\n      <td></td>\n      <td>!</td>\n      <td></td>\n      <td>!</td>\n    </tr>\n  </tbody>\n</table>\n</div>"
     },
     "metadata": {},
     "output_type": "display_data"
    }
   ],
   "source": [
    "ru2.lemmatizer.DEBUG = 1\n",
    "nlp_r2=pipe_add(ru2.Russian2())\n",
    "print(\"R2 pipeline: {}\".format(nlp_r2.pipe_names))\n",
    "parse(nlp_r2, text)"
   ]
  },
  {
   "cell_type": "code",
   "execution_count": 6,
   "metadata": {
    "pycharm": {
     "is_executing": false
    }
   },
   "outputs": [
    {
     "name": "stdout",
     "text": [
      "EN pipeline: ['sentencizer', 'tagger', 'parser', 'ner']\nNLP=spacy.lang.en.English Text=Она дочь человека из соседней галактики . Славим дочь человека ! \n",
      "XX pipeline: ['sentencizer', 'ner']\nNLP=spacy.lang.xx.MultiLanguage Text=Она дочь человека из соседней галактики . Славим дочь человека ! \n"
     ],
     "output_type": "stream"
    },
    {
     "data": {
      "text/plain": "                                    Sentence\n0  Она дочь человека из соседней галактики .\n1                     Славим дочь человека !",
      "text/html": "<div>\n<style scoped>\n    .dataframe tbody tr th:only-of-type {\n        vertical-align: middle;\n    }\n\n    .dataframe tbody tr th {\n        vertical-align: top;\n    }\n\n    .dataframe thead th {\n        text-align: right;\n    }\n</style>\n<table border=\"1\" class=\"dataframe\">\n  <thead>\n    <tr style=\"text-align: right;\">\n      <th></th>\n      <th>Sentence</th>\n    </tr>\n  </thead>\n  <tbody>\n    <tr>\n      <th>0</th>\n      <td>Она дочь человека из соседней галактики .</td>\n    </tr>\n    <tr>\n      <th>1</th>\n      <td>Славим дочь человека !</td>\n    </tr>\n  </tbody>\n</table>\n</div>"
     },
     "metadata": {},
     "output_type": "display_data"
    },
    {
     "data": {
      "text/plain": "    shape vocab    POS       text  tag      lemma       dep       head\n0     Xxx     +   NOUN        Она   NN        она      amod       дочь\n1    xxxx     +   NOUN       дочь  NNS       дочь     nsubj   человека\n2    xxxx     +   VERB   человека  VBP   человека      ROOT   человека\n3      xx     +    ADP         из   IN         из      intj   человека\n4    xxxx     +   VERB   соседней  VBP   соседней  compound  галактики\n5    xxxx     +   NOUN  галактики  NNS  галактики      dobj   человека\n6       .     +  PUNCT          .    .          .     punct   человека\n7   Xxxxx     +   NOUN     Славим   NN     славим  compound       дочь\n8    xxxx     +   NOUN       дочь  NNS       дочь     nsubj   человека\n9    xxxx     +   VERB   человека  VBP   человека      ROOT   человека\n10      !     +  PUNCT          !    .          !     punct   человека",
      "text/html": "<div>\n<style scoped>\n    .dataframe tbody tr th:only-of-type {\n        vertical-align: middle;\n    }\n\n    .dataframe tbody tr th {\n        vertical-align: top;\n    }\n\n    .dataframe thead th {\n        text-align: right;\n    }\n</style>\n<table border=\"1\" class=\"dataframe\">\n  <thead>\n    <tr style=\"text-align: right;\">\n      <th></th>\n      <th>shape</th>\n      <th>vocab</th>\n      <th>POS</th>\n      <th>text</th>\n      <th>tag</th>\n      <th>lemma</th>\n      <th>dep</th>\n      <th>head</th>\n    </tr>\n  </thead>\n  <tbody>\n    <tr>\n      <th>0</th>\n      <td>Xxx</td>\n      <td>+</td>\n      <td>NOUN</td>\n      <td>Она</td>\n      <td>NN</td>\n      <td>она</td>\n      <td>amod</td>\n      <td>дочь</td>\n    </tr>\n    <tr>\n      <th>1</th>\n      <td>xxxx</td>\n      <td>+</td>\n      <td>NOUN</td>\n      <td>дочь</td>\n      <td>NNS</td>\n      <td>дочь</td>\n      <td>nsubj</td>\n      <td>человека</td>\n    </tr>\n    <tr>\n      <th>2</th>\n      <td>xxxx</td>\n      <td>+</td>\n      <td>VERB</td>\n      <td>человека</td>\n      <td>VBP</td>\n      <td>человека</td>\n      <td>ROOT</td>\n      <td>человека</td>\n    </tr>\n    <tr>\n      <th>3</th>\n      <td>xx</td>\n      <td>+</td>\n      <td>ADP</td>\n      <td>из</td>\n      <td>IN</td>\n      <td>из</td>\n      <td>intj</td>\n      <td>человека</td>\n    </tr>\n    <tr>\n      <th>4</th>\n      <td>xxxx</td>\n      <td>+</td>\n      <td>VERB</td>\n      <td>соседней</td>\n      <td>VBP</td>\n      <td>соседней</td>\n      <td>compound</td>\n      <td>галактики</td>\n    </tr>\n    <tr>\n      <th>5</th>\n      <td>xxxx</td>\n      <td>+</td>\n      <td>NOUN</td>\n      <td>галактики</td>\n      <td>NNS</td>\n      <td>галактики</td>\n      <td>dobj</td>\n      <td>человека</td>\n    </tr>\n    <tr>\n      <th>6</th>\n      <td>.</td>\n      <td>+</td>\n      <td>PUNCT</td>\n      <td>.</td>\n      <td>.</td>\n      <td>.</td>\n      <td>punct</td>\n      <td>человека</td>\n    </tr>\n    <tr>\n      <th>7</th>\n      <td>Xxxxx</td>\n      <td>+</td>\n      <td>NOUN</td>\n      <td>Славим</td>\n      <td>NN</td>\n      <td>славим</td>\n      <td>compound</td>\n      <td>дочь</td>\n    </tr>\n    <tr>\n      <th>8</th>\n      <td>xxxx</td>\n      <td>+</td>\n      <td>NOUN</td>\n      <td>дочь</td>\n      <td>NNS</td>\n      <td>дочь</td>\n      <td>nsubj</td>\n      <td>человека</td>\n    </tr>\n    <tr>\n      <th>9</th>\n      <td>xxxx</td>\n      <td>+</td>\n      <td>VERB</td>\n      <td>человека</td>\n      <td>VBP</td>\n      <td>человека</td>\n      <td>ROOT</td>\n      <td>человека</td>\n    </tr>\n    <tr>\n      <th>10</th>\n      <td>!</td>\n      <td>+</td>\n      <td>PUNCT</td>\n      <td>!</td>\n      <td>.</td>\n      <td>!</td>\n      <td>punct</td>\n      <td>человека</td>\n    </tr>\n  </tbody>\n</table>\n</div>"
     },
     "metadata": {},
     "output_type": "display_data"
    },
    {
     "data": {
      "text/plain": "                                    Sentence\n0  Она дочь человека из соседней галактики .\n1                     Славим дочь человека !",
      "text/html": "<div>\n<style scoped>\n    .dataframe tbody tr th:only-of-type {\n        vertical-align: middle;\n    }\n\n    .dataframe tbody tr th {\n        vertical-align: top;\n    }\n\n    .dataframe thead th {\n        text-align: right;\n    }\n</style>\n<table border=\"1\" class=\"dataframe\">\n  <thead>\n    <tr style=\"text-align: right;\">\n      <th></th>\n      <th>Sentence</th>\n    </tr>\n  </thead>\n  <tbody>\n    <tr>\n      <th>0</th>\n      <td>Она дочь человека из соседней галактики .</td>\n    </tr>\n    <tr>\n      <th>1</th>\n      <td>Славим дочь человека !</td>\n    </tr>\n  </tbody>\n</table>\n</div>"
     },
     "metadata": {},
     "output_type": "display_data"
    },
    {
     "data": {
      "text/plain": "    shape vocab POS       text tag      lemma dep       head\n0     Xxx     +            Она            Она            Она\n1    xxxx     +           дочь           дочь           дочь\n2    xxxx     +       человека       человека       человека\n3      xx     +             из             из             из\n4    xxxx     +       соседней       соседней       соседней\n5    xxxx     +      галактики      галактики      галактики\n6       .     +              .              .              .\n7   Xxxxx     +         Славим         Славим         Славим\n8    xxxx     +           дочь           дочь           дочь\n9    xxxx     +       человека       человека       человека\n10      !     +              !              !              !",
      "text/html": "<div>\n<style scoped>\n    .dataframe tbody tr th:only-of-type {\n        vertical-align: middle;\n    }\n\n    .dataframe tbody tr th {\n        vertical-align: top;\n    }\n\n    .dataframe thead th {\n        text-align: right;\n    }\n</style>\n<table border=\"1\" class=\"dataframe\">\n  <thead>\n    <tr style=\"text-align: right;\">\n      <th></th>\n      <th>shape</th>\n      <th>vocab</th>\n      <th>POS</th>\n      <th>text</th>\n      <th>tag</th>\n      <th>lemma</th>\n      <th>dep</th>\n      <th>head</th>\n    </tr>\n  </thead>\n  <tbody>\n    <tr>\n      <th>0</th>\n      <td>Xxx</td>\n      <td>+</td>\n      <td></td>\n      <td>Она</td>\n      <td></td>\n      <td>Она</td>\n      <td></td>\n      <td>Она</td>\n    </tr>\n    <tr>\n      <th>1</th>\n      <td>xxxx</td>\n      <td>+</td>\n      <td></td>\n      <td>дочь</td>\n      <td></td>\n      <td>дочь</td>\n      <td></td>\n      <td>дочь</td>\n    </tr>\n    <tr>\n      <th>2</th>\n      <td>xxxx</td>\n      <td>+</td>\n      <td></td>\n      <td>человека</td>\n      <td></td>\n      <td>человека</td>\n      <td></td>\n      <td>человека</td>\n    </tr>\n    <tr>\n      <th>3</th>\n      <td>xx</td>\n      <td>+</td>\n      <td></td>\n      <td>из</td>\n      <td></td>\n      <td>из</td>\n      <td></td>\n      <td>из</td>\n    </tr>\n    <tr>\n      <th>4</th>\n      <td>xxxx</td>\n      <td>+</td>\n      <td></td>\n      <td>соседней</td>\n      <td></td>\n      <td>соседней</td>\n      <td></td>\n      <td>соседней</td>\n    </tr>\n    <tr>\n      <th>5</th>\n      <td>xxxx</td>\n      <td>+</td>\n      <td></td>\n      <td>галактики</td>\n      <td></td>\n      <td>галактики</td>\n      <td></td>\n      <td>галактики</td>\n    </tr>\n    <tr>\n      <th>6</th>\n      <td>.</td>\n      <td>+</td>\n      <td></td>\n      <td>.</td>\n      <td></td>\n      <td>.</td>\n      <td></td>\n      <td>.</td>\n    </tr>\n    <tr>\n      <th>7</th>\n      <td>Xxxxx</td>\n      <td>+</td>\n      <td></td>\n      <td>Славим</td>\n      <td></td>\n      <td>Славим</td>\n      <td></td>\n      <td>Славим</td>\n    </tr>\n    <tr>\n      <th>8</th>\n      <td>xxxx</td>\n      <td>+</td>\n      <td></td>\n      <td>дочь</td>\n      <td></td>\n      <td>дочь</td>\n      <td></td>\n      <td>дочь</td>\n    </tr>\n    <tr>\n      <th>9</th>\n      <td>xxxx</td>\n      <td>+</td>\n      <td></td>\n      <td>человека</td>\n      <td></td>\n      <td>человека</td>\n      <td></td>\n      <td>человека</td>\n    </tr>\n    <tr>\n      <th>10</th>\n      <td>!</td>\n      <td>+</td>\n      <td></td>\n      <td>!</td>\n      <td></td>\n      <td>!</td>\n      <td></td>\n      <td>!</td>\n    </tr>\n  </tbody>\n</table>\n</div>"
     },
     "metadata": {},
     "output_type": "display_data"
    }
   ],
   "source": [
    "nlp_en=pipe_add(spacy.load('en'))\n",
    "print(\"EN pipeline: {}\".format(nlp_en.pipe_names))\n",
    "parse(nlp_en, text)\n",
    "nlp_xx=pipe_add(spacy.load('xx'))\n",
    "print(\"XX pipeline: {}\".format(nlp_xx.pipe_names))\n",
    "parse(nlp_xx, text)"
   ]
  },
  {
   "cell_type": "code",
   "execution_count": 7,
   "metadata": {
    "pycharm": {
     "is_executing": false
    }
   },
   "outputs": [],
   "source": [
    "def inspect_object(x):\n",
    "    import inspect\n",
    "    opts = dir(x)\n",
    "    \n",
    "    for p in opts:\n",
    "        if not '__' in p and not (p+'_' in opts) and not p.startswith('is_') and not p.startswith('like_'):\n",
    "            try:\n",
    "                a = getattr(x, p)\n",
    "            except Exception as e:\n",
    "                continue\n",
    "                a = 'Exception: {}'.format(e)\n",
    "            if callable(a): # don't call callables to avoid the object state change\n",
    "                #print('.{}()'.format(a))\n",
    "                continue\n",
    "#                 try:\n",
    "#                     #a = a()\n",
    "#                     p = p + '()'\n",
    "#                 except:\n",
    "#                     pass\n",
    "            if inspect.isgenerator(a):\n",
    "                p = p+'[:]'\n",
    "                a = list(a)\n",
    "            #if hasattr(a, '__iter__'): a = list(a)\n",
    "            print('.{} = {}'.format(p, a))"
   ]
  },
  {
   "cell_type": "code",
   "execution_count": 8,
   "metadata": {
    "scrolled": false,
    "pycharm": {
     "is_executing": false
    }
   },
   "outputs": [
    {
     "name": "stdout",
     "text": [
      ".cluster = 0\n.flags = 12306\n.has_vector = False\n.lang_ = ru\n.lower_ = она\n.norm_ = она\n.orth_ = она\n.prefix_ = о\n.prob = -20.0\n.rank = 0\n.sentiment = 0.0\n.shape_ = xxx\n.suffix_ = она\n.text = она\n.vocab = <spacy.vocab.Vocab object at 0x7fd3ab9d1b88>\n"
     ],
     "output_type": "stream"
    }
   ],
   "source": [
    "inspect_object(nlp_ru.vocab['она'])"
   ]
  },
  {
   "cell_type": "code",
   "execution_count": 9,
   "metadata": {
    "pycharm": {
     "is_executing": false
    }
   },
   "outputs": [
    {
     "name": "stdout",
     "text": [
      "108205 :\n"
     ],
     "output_type": "stream"
    },
    {
     "data": {
      "text/plain": "['\\t',\n '165',\n '20-летнее',\n '45,5',\n ':)))',\n 'Force',\n 'Perseo',\n 'disasters',\n 'Адама',\n 'Андерсон',\n 'БДО',\n 'Береги',\n 'Бриджет',\n 'Валяясь',\n 'Виксинты',\n 'Воронью',\n 'Вышки',\n 'Гершензон',\n 'Гражданское',\n 'Дворников',\n 'Добраться',\n 'Европу',\n 'Завоеватель',\n 'Знаменитым',\n 'Ингеллау',\n 'КОЛЫБЕЛЬНАЯ',\n 'Касьяновым',\n 'Колумба',\n 'Красногорского',\n 'Лакмусовая',\n 'Лоренцо',\n 'Малым',\n 'Мессии',\n 'Молчащий',\n 'Надежной',\n 'Недоступная',\n 'Новотроицка',\n 'Овчинского',\n 'Основанием',\n 'ПОЛИТИЧЕСКИХ',\n 'Перекукует',\n 'Повторяю',\n 'Помощь',\n 'Представьте',\n 'Произошедшее',\n 'РПГ-18',\n 'Резервы',\n 'Руговы',\n 'Санкт-Морице',\n 'Сестра',\n 'Соберет',\n 'Способностью',\n 'Суздальцев',\n 'Темирбаев',\n 'Труд',\n 'Унификация',\n 'Февр',\n 'Хансен',\n 'Церемония',\n 'Шамиль',\n 'Экспертного',\n 'Японский',\n 'автономных',\n 'аккаунт',\n 'анализа',\n 'аплодисментами',\n 'ассоциации',\n 'базирующаяся',\n 'бегство',\n 'белками',\n 'бессмысленности',\n 'благами',\n 'богатейшего',\n 'борта',\n 'буддизмом',\n 'бэкграунда',\n 'ввод',\n 'вере',\n 'вещевой',\n 'видам',\n 'включили',\n 'внутреннего',\n 'возглавляли',\n 'волжской',\n 'воспользовался',\n 'вражду',\n 'вспышках',\n 'выбежали',\n 'выделялся',\n 'вымышленный',\n 'вырасти',\n 'выступающие',\n 'гадят',\n 'географическими',\n 'глади',\n 'голодающих',\n 'госпитализацию',\n 'грек',\n 'гудком',\n 'двенадцатого',\n 'действенными',\n 'депозитов',\n 'джинсы',\n 'диссидентов',\n 'доводом',\n 'долетит',\n 'дорожно-транспортное',\n 'драматичных',\n 'дырку',\n 'еще',\n 'живое',\n 'забитая',\n 'завоевывало',\n 'задолго',\n 'законного',\n 'замедление',\n 'заняты',\n 'запускает',\n 'застрахована',\n 'зачисляли',\n 'земледелия',\n 'золотовалютных',\n 'избавления',\n 'излить',\n 'изъянцем',\n 'индексов',\n 'интеллигентом',\n 'искалечены',\n 'испытывает',\n 'июньского',\n 'канаты',\n 'каталитический',\n 'кинетическую',\n 'клич',\n 'коли',\n 'коммерческую',\n 'конкретике',\n 'контролирует',\n 'коридорах',\n 'костяк',\n 'крепким',\n 'крупнейшие',\n 'курские',\n 'легитимизировать',\n 'лечил',\n 'лишать',\n 'лучников',\n 'максимальном',\n 'масляною',\n 'медиарынок',\n 'мерки',\n 'мечтая',\n 'минувшие',\n 'множества',\n 'монаховская',\n 'мощный',\n 'мышлении',\n 'нагревание',\n 'наивности',\n 'намерены',\n 'напряжениях',\n 'настала',\n 'нацеленных',\n 'невелико',\n 'недорого',\n 'нейлона',\n 'необоснованной',\n 'неправосудных',\n 'несется',\n 'неустроенно',\n 'нищетой',\n 'нравиться',\n 'обжалованию',\n 'обнаруживаем',\n 'образом',\n 'обученных',\n 'обыденности',\n 'одержала',\n 'ознакомления',\n 'оленины',\n 'опосредованного',\n 'орало',\n 'освобождено',\n 'оставшаяся',\n 'отвергают',\n 'отказы',\n 'отнимаемые',\n 'отрицательные',\n 'отчужденный',\n 'ошибаемся',\n 'парадных',\n 'пастухом',\n 'перебраны',\n 'перекладывающих',\n 'перераспределительную',\n 'перроне',\n 'пионер',\n 'пластилиновой',\n 'по-видимому',\n 'поворотные',\n 'подано',\n 'подзащитного',\n 'подорожником',\n 'подтянуться',\n 'поздно',\n 'покрылись',\n 'полноте',\n 'польским',\n 'пообщаться',\n 'породила',\n 'последовательным',\n 'построит',\n 'потрясателя',\n 'праведный',\n 'превышением',\n 'предпочитали',\n 'прежними',\n 'пресс-форму',\n 'привилегии',\n 'приемного',\n 'применены',\n 'припасы',\n 'приходилось',\n 'провластной',\n 'продлятся',\n 'производствам',\n 'пронеслось',\n 'просматривалась',\n 'протоксида',\n 'прошедший',\n 'пугали',\n 'пьянства',\n 'радостная',\n 'разглядывает',\n 'размещают',\n 'разрушает',\n 'раскопу',\n 'рассеются',\n 'растянут',\n 'реверсивная',\n 'рейда',\n 'реставрационных',\n 'ритуалы',\n 'ротор',\n 'рычаге',\n 'самоходки',\n 'сверкающе',\n 'свой',\n 'сегменты',\n 'сервисы',\n 'сильные',\n 'скважин',\n 'скучна',\n 'сломанного',\n 'смещенных',\n 'собаке',\n 'современников',\n 'сокращает',\n 'сопровождалась',\n 'сотоварищами',\n 'спасателям',\n 'спонтанной',\n 'среднегодовая',\n 'становилось',\n 'стесывании',\n 'странному',\n 'студенческой',\n 'суперпопулярному',\n 'считается',\n 'талантливая',\n 'тележурналисты',\n 'термоизоляции',\n 'тканевую',\n 'торжественной',\n 'транспортное',\n 'тринадцатую',\n 'турецкими',\n 'убрал',\n 'угольной',\n 'ужасен',\n 'уличные',\n 'унитазе',\n 'уравновешен',\n 'успешными',\n 'утешен',\n 'учителя',\n 'федеральной',\n 'фирму',\n 'фронтального',\n 'хирургия',\n 'храповым',\n 'ценный',\n 'частыми',\n 'чеченских',\n 'чушь',\n 'шинелью',\n 'шуба',\n 'экрану',\n 'электропунктурная',\n 'эстонского',\n 'ядовитого']"
     },
     "metadata": {},
     "output_type": "display_data"
    }
   ],
   "source": [
    "vocab = sorted([n.orth_ for n in nlp_ru.vocab])\n",
    "print(len(vocab), ':')\n",
    "display(vocab[::len(vocab)//300])"
   ]
  },
  {
   "cell_type": "code",
   "execution_count": 10,
   "metadata": {
    "pycharm": {
     "is_executing": false
    }
   },
   "outputs": [
    {
     "data": {
      "text/plain": "['электричество']"
     },
     "metadata": {},
     "output_type": "display_data"
    },
    {
     "data": {
      "text/plain": "['электричеством']"
     },
     "metadata": {},
     "output_type": "display_data"
    },
    {
     "name": "stdout",
     "text": [
      "Set lemma for selected POS tag: электричеством NOUN None\n",
      "Set lemma for selected POS tag: электричеством X None\n"
     ],
     "output_type": "stream"
    },
    {
     "data": {
      "text/plain": "['электричество']"
     },
     "metadata": {},
     "output_type": "display_data"
    },
    {
     "data": {
      "text/plain": "['электричеством']"
     },
     "metadata": {},
     "output_type": "display_data"
    }
   ],
   "source": [
    "from spacy.lang.ru.lemmatizer import RussianLemmatizer\n",
    "import ru2.lemmatizer\n",
    "lemmatizer1 = RussianLemmatizer()\n",
    "lemmatizer2 = ru2.lemmatizer.RussianLemmatizer()\n",
    "display(lemmatizer1(u'электричеством', 'NOUN'))\n",
    "display(lemmatizer1(u'электричеством', 'X'))\n",
    "display(lemmatizer2(u'электричеством', 'NOUN'))\n",
    "display(lemmatizer2(u'электричеством', 'X'))"
   ]
  },
  {
   "cell_type": "code",
   "execution_count": 13,
   "metadata": {
    "pycharm": {
     "is_executing": false
    }
   },
   "outputs": [
    {
     "name": "stdout",
     "text": [
      ".cluster = 0\n.flags = 8582\n.has_vector = False\n.lang_ = ru\n.lower_ = x\n.norm_ = x\n.orth_ = X\n.prefix_ = X\n.prob = -20.0\n.rank = 0\n.sentiment = 0.0\n.shape_ = X\n.suffix_ = X\n.text = X\n.vocab = <spacy.vocab.Vocab object at 0x7fd3ab9d1b88>\n"
     ],
     "output_type": "stream"
    }
   ],
   "source": [
    "inspect_object(nlp_ru.vocab[101])"
   ]
  },
  {
   "cell_type": "code",
   "execution_count": 11,
   "metadata": {
    "pycharm": {
     "is_executing": false
    }
   },
   "outputs": [],
   "source": []
  }
 ],
 "metadata": {
  "kernelspec": {
   "display_name": "Python 3",
   "language": "python",
   "name": "python3"
  },
  "language_info": {
   "codemirror_mode": {
    "name": "ipython",
    "version": 3
   },
   "file_extension": ".py",
   "mimetype": "text/x-python",
   "name": "python",
   "nbconvert_exporter": "python",
   "pygments_lexer": "ipython3",
   "version": "3.6.8"
  },
  "pycharm": {
   "stem_cell": {
    "cell_type": "raw",
    "source": [],
    "metadata": {
     "collapsed": false
    }
   }
  }
 },
 "nbformat": 4,
 "nbformat_minor": 2
}