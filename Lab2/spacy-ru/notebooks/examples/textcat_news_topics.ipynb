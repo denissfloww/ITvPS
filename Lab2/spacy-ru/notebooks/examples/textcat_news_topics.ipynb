{
 "cells": [
  {
   "cell_type": "code",
   "execution_count": 1,
   "metadata": {},
   "outputs": [
    {
     "data": {
      "text/html": [
       "<style>.container { width:100% !important; }</style>"
      ],
      "text/plain": [
       "<IPython.core.display.HTML object>"
      ]
     },
     "metadata": {},
     "output_type": "display_data"
    }
   ],
   "source": [
    "from IPython.core.display import display, HTML\n",
    "display(HTML(\"<style>.container { width:100% !important; }</style>\"))"
   ]
  },
  {
   "cell_type": "code",
   "execution_count": 2,
   "metadata": {},
   "outputs": [],
   "source": [
    "import spacy\n",
    "spacy.require_gpu()\n",
    "CFG = {'device': 2, 'cpu_count': 4}"
   ]
  },
  {
   "cell_type": "code",
   "execution_count": 3,
   "metadata": {},
   "outputs": [],
   "source": [
    "import spacy\n",
    "import ru2e\n",
    "nlp = ru2e.load_ru2('../../ru2e')"
   ]
  },
  {
   "cell_type": "code",
   "execution_count": 4,
   "metadata": {},
   "outputs": [
    {
     "data": {
      "text/plain": [
       "LentaRecord(\n",
       "    url='https://lenta.ru/news/2018/12/14/cancer/',\n",
       "    title='Названы регионы России с\\xa0самой высокой смертностью от\\xa0рака',\n",
       "    text='Вице-премьер по социальным вопросам Татьяна Голикова рассказала, в каких регионах России зафиксирована наиболее высокая смертность от рака, сообщает РИА Новости. По словам Голиковой, чаще всего онкологические заболевания становились причиной смерти в Псковской, Тверской, Тульской и Орловской областях, а также в Севастополе. Вице-премьер напомнила, что главные факторы смертности в России — рак и болезни системы кровообращения. В начале года стало известно, что смертность от онкологических заболеваний среди россиян снизилась впервые за три года. По данным Росстата, в 2017 году от рака умерли 289 тысяч человек. Это на 3,5 процента меньше, чем годом ранее.',\n",
       "    topic='Россия',\n",
       "    tags='Общество'\n",
       ")"
      ]
     },
     "execution_count": 4,
     "metadata": {},
     "output_type": "execute_result"
    }
   ],
   "source": [
    "from corus import load_lenta\n",
    "path = '../../data/lenta-ru-news.csv.gz'\n",
    "records = load_lenta(path)\n",
    "record0 = next(records)\n",
    "record0"
   ]
  },
  {
   "cell_type": "code",
   "execution_count": 5,
   "metadata": {},
   "outputs": [
    {
     "data": {
      "text/plain": [
       "[]"
      ]
     },
     "execution_count": 5,
     "metadata": {},
     "output_type": "execute_result"
    }
   ],
   "source": [
    "nlp.pipeline"
   ]
  },
  {
   "cell_type": "code",
   "execution_count": 6,
   "metadata": {},
   "outputs": [
    {
     "name": "stdout",
     "output_type": "stream",
     "text": [
      "Dep tree Token       Dep type Lemma      Part of Sp\n",
      "──────── ─────────── ──────── ────────── ──────────\n",
      "         Названы              Названы              \n",
      "         регионы              регион               \n",
      "         России               россия               \n",
      "         с                    с                    \n",
      "                                         SPACE     \n",
      "         самой                самой                \n",
      "         высокой              высокий              \n",
      "         смертностью          смертность           \n",
      "         от                   от                   \n",
      "                                         SPACE     \n",
      "         рака                 рака                 \n"
     ]
    }
   ],
   "source": [
    "import explacy\n",
    "explacy.print_parse_info(nlp, record0.title)"
   ]
  },
  {
   "cell_type": "code",
   "execution_count": 7,
   "metadata": {},
   "outputs": [],
   "source": [
    "import pandas\n",
    "pandas.set_option('max_colwidth', 200)\n",
    "from tqdm.auto import tqdm as tq"
   ]
  },
  {
   "cell_type": "code",
   "execution_count": 8,
   "metadata": {},
   "outputs": [
    {
     "data": {
      "application/vnd.jupyter.widget-view+json": {
       "model_id": "fb193e84472f4229977354eb58af94d3",
       "version_major": 2,
       "version_minor": 0
      },
      "text/plain": [
       "HBox(children=(FloatProgress(value=0.0, max=25000.0), HTML(value='')))"
      ]
     },
     "metadata": {},
     "output_type": "display_data"
    },
    {
     "name": "stdout",
     "output_type": "stream",
     "text": [
      "25000\n"
     ]
    },
    {
     "data": {
      "text/html": [
       "<div>\n",
       "<style scoped>\n",
       "    .dataframe tbody tr th:only-of-type {\n",
       "        vertical-align: middle;\n",
       "    }\n",
       "\n",
       "    .dataframe tbody tr th {\n",
       "        vertical-align: top;\n",
       "    }\n",
       "\n",
       "    .dataframe thead th {\n",
       "        text-align: right;\n",
       "    }\n",
       "</style>\n",
       "<table border=\"1\" class=\"dataframe\">\n",
       "  <thead>\n",
       "    <tr style=\"text-align: right;\">\n",
       "      <th></th>\n",
       "      <th>title</th>\n",
       "      <th>topic</th>\n",
       "    </tr>\n",
       "  </thead>\n",
       "  <tbody>\n",
       "    <tr>\n",
       "      <th>0</th>\n",
       "      <td>Названы регионы России с самой высокой смертностью от рака</td>\n",
       "      <td>Россия</td>\n",
       "    </tr>\n",
       "    <tr>\n",
       "      <th>1</th>\n",
       "      <td>Австрия не представила доказательств вины российских биатлонистов</td>\n",
       "      <td>Спорт</td>\n",
       "    </tr>\n",
       "    <tr>\n",
       "      <th>2</th>\n",
       "      <td>Обнаружено самое счастливое место на планете</td>\n",
       "      <td>Путешествия</td>\n",
       "    </tr>\n",
       "    <tr>\n",
       "      <th>3</th>\n",
       "      <td>В США раскрыли сумму расходов на расследование «российского дела»</td>\n",
       "      <td>Мир</td>\n",
       "    </tr>\n",
       "    <tr>\n",
       "      <th>4</th>\n",
       "      <td>Хакеры рассказали о планах Великобритании заминировать Севастополь</td>\n",
       "      <td>Мир</td>\n",
       "    </tr>\n",
       "  </tbody>\n",
       "</table>\n",
       "</div>"
      ],
      "text/plain": [
       "                                                                title  \\\n",
       "0          Названы регионы России с самой высокой смертностью от рака   \n",
       "1   Австрия не представила доказательств вины российских биатлонистов   \n",
       "2                        Обнаружено самое счастливое место на планете   \n",
       "3   В США раскрыли сумму расходов на расследование «российского дела»   \n",
       "4  Хакеры рассказали о планах Великобритании заминировать Севастополь   \n",
       "\n",
       "         topic  \n",
       "0       Россия  \n",
       "1        Спорт  \n",
       "2  Путешествия  \n",
       "3          Мир  \n",
       "4          Мир  "
      ]
     },
     "execution_count": 8,
     "metadata": {},
     "output_type": "execute_result"
    }
   ],
   "source": [
    "records = load_lenta(path)\n",
    "# overfitting and underfitting\n",
    "# splitting the dataset. how many examples to take for a test?\n",
    "dataset = []\n",
    "for i, r in tq(enumerate(records), total=25000):\n",
    "    if not r.topic:\n",
    "        # есть примеры в датасете, где нет категории\n",
    "        continue\n",
    "    dataset.append((r.title, r.topic))\n",
    "    if len(dataset) >= 25000:\n",
    "        break\n",
    "df = pandas.DataFrame(dataset, columns=['title', 'topic'])\n",
    "print(len(df))\n",
    "df.head(5)"
   ]
  },
  {
   "cell_type": "code",
   "execution_count": 9,
   "metadata": {},
   "outputs": [
    {
     "name": "stdout",
     "output_type": "stream",
     "text": [
      "20000 2500 2500\n"
     ]
    },
    {
     "data": {
      "text/plain": [
       "[('В России закрыли чемпионат мира по\\xa0футболу', 'Спорт'),\n",
       " ('Назначенный Орешкиным неизвестный таджик обрел миссию', 'Экономика'),\n",
       " ('В Киеве массово лопнули трубы после подачи горячей воды', 'Бывший СССР'),\n",
       " ('Россиянин избежал тюрьмы за\\xa0убийство оскорбившей его девушки', 'Россия'),\n",
       " ('Умер режиссер «Чегемского детектива» Александр Светлов', 'Культура')]"
      ]
     },
     "metadata": {},
     "output_type": "display_data"
    },
    {
     "data": {
      "text/plain": [
       "[('Телеведущей отказали в\\xa0работе из-за «недостаточно большой груди»',\n",
       "  'Интернет и СМИ'),\n",
       " ('Шарапова ответила на\\xa0отказ Серены Уильямс играть против нее', 'Спорт'),\n",
       " ('Bvlgari представил новые вариации на\\xa0змеиную тему', 'Ценности'),\n",
       " ('Найден новый способ победить особо опасный рак', 'Наука и техника'),\n",
       " ('Анестезиолог изнасиловал россиянку под наркозом и\\xa0пошел под суд',\n",
       "  'Силовые структуры')]"
      ]
     },
     "metadata": {},
     "output_type": "display_data"
    }
   ],
   "source": [
    "#train, dev, test\n",
    "#20000, 2500, 2500 \n",
    "from sklearn.model_selection import train_test_split\n",
    "df_train, df_dev = train_test_split(dataset, test_size=2500, random_state=42)\n",
    "df_train, df_test = train_test_split(df_train, test_size=2500, random_state=42)\n",
    "print(len(df_train), len(df_dev), len(df_test))\n",
    "display(df_train[:5])\n",
    "display(df_dev[:5])"
   ]
  },
  {
   "cell_type": "code",
   "execution_count": 10,
   "metadata": {},
   "outputs": [
    {
     "name": "stdout",
     "output_type": "stream",
     "text": [
      "17 classes : ['69-я параллель', 'Бизнес', 'Бывший СССР', 'Дом', 'Из жизни', 'Интернет и СМИ', 'Крым', 'Культпросвет ', 'Культура', 'Мир', 'Наука и техника', 'Путешествия', 'Россия', 'Силовые структуры', 'Спорт', 'Ценности', 'Экономика']\n"
     ]
    }
   ],
   "source": [
    "classes = sorted(set([_[1] for _ in dataset]))\n",
    "print(len(classes), 'classes :', classes)"
   ]
  },
  {
   "cell_type": "code",
   "execution_count": 11,
   "metadata": {},
   "outputs": [
    {
     "data": {
      "text/plain": [
       "[('textcat', <spacy.pipeline.pipes.TextCategorizer at 0x7f3ed9212a58>)]"
      ]
     },
     "execution_count": 11,
     "metadata": {},
     "output_type": "execute_result"
    }
   ],
   "source": [
    "if 'textcat' in nlp.pipe_names:\n",
    "    nlp.disable_pipes('textcat')\n",
    "textcat = nlp.create_pipe(\n",
    "    \"textcat\", config={\"exclusive_classes\": True, \"architecture\": \"simple_cnn\"}\n",
    ")\n",
    "# textcat = nlp.create_pipe(\n",
    "#     \"textcat\", config={\"exclusive_classes\": True}\n",
    "# )\n",
    "nlp.add_pipe(textcat)\n",
    "\n",
    "for c in classes:\n",
    "    textcat.add_label(c)\n",
    "\n",
    "nlp.pipeline"
   ]
  },
  {
   "cell_type": "code",
   "execution_count": 12,
   "metadata": {},
   "outputs": [],
   "source": [
    "import random\n",
    "from spacy.util import minibatch, compounding"
   ]
  },
  {
   "cell_type": "code",
   "execution_count": 13,
   "metadata": {},
   "outputs": [],
   "source": [
    "from tqdm.auto import tqdm"
   ]
  },
  {
   "cell_type": "code",
   "execution_count": 14,
   "metadata": {},
   "outputs": [
    {
     "data": {
      "text/plain": [
       "'Режим ЧС введут в пострадавшем от химикатов крымском городе. Депутат Рады обвинил Украину в дискриминации крымчан'"
      ]
     },
     "execution_count": 14,
     "metadata": {},
     "output_type": "execute_result"
    }
   ],
   "source": [
    "import re\n",
    "from pymystem3 import Mystem\n",
    "\n",
    "_LEMMATIZER = None\n",
    "_LEMMATIZER_CACHE = {}\n",
    "\n",
    "def tag_(word):\n",
    "    global _LEMMATIZER\n",
    "    if _LEMMATIZER is None:\n",
    "        _LEMMATIZER = Mystem()\n",
    "        # _LEMMATIZER = MorphAnalyzer('ru')\n",
    "    try:\n",
    "        processed = _LEMMATIZER.analyze(word)[0]\n",
    "    except Exception:\n",
    "        # not a word at all\n",
    "        return word\n",
    "    if not processed.get('analysis'):\n",
    "        lemma = word.strip()\n",
    "    else:\n",
    "        lemma = processed[\"analysis\"][0][\"lex\"].lower().strip()\n",
    "    if word.upper() == word:\n",
    "        return lemma.upper()\n",
    "    if word.title() == word:\n",
    "        return lemma.title()\n",
    "    return lemma\n",
    "\n",
    "def tag(word):\n",
    "    global _LEMMATIZER_CACHE\n",
    "    if word not in _LEMMATIZER_CACHE:\n",
    "        _LEMMATIZER_CACHE[word] = tag_(word)\n",
    "    return _LEMMATIZER_CACHE[word]\n",
    "\n",
    "def tokenize_re(doc):\n",
    "    return [tag(x) for x in re.split('(\\W+)', doc) if x.strip()]\n",
    "\n",
    "def lemmatized(x):\n",
    "    return ' '.join(tokenize_re(x))\n",
    "lemmatized = lambda x: x\n",
    "lemmatized('Режим ЧС введут в пострадавшем от химикатов крымском городе. Депутат Рады обвинил Украину в дискриминации крымчан')"
   ]
  },
  {
   "cell_type": "code",
   "execution_count": 15,
   "metadata": {},
   "outputs": [
    {
     "name": "stdout",
     "output_type": "stream",
     "text": [
      "\n"
     ]
    }
   ],
   "source": [
    "from livelossplot import PlotLosses"
   ]
  },
  {
   "cell_type": "code",
   "execution_count": 16,
   "metadata": {},
   "outputs": [
    {
     "data": {
      "application/vnd.jupyter.widget-view+json": {
       "model_id": "021d3f21aed6476d9a28fd662de4e0cb",
       "version_major": 2,
       "version_minor": 0
      },
      "text/plain": [
       "HBox(children=(FloatProgress(value=0.0, max=2500.0), HTML(value='')))"
      ]
     },
     "metadata": {},
     "output_type": "display_data"
    },
    {
     "name": "stdout",
     "output_type": "stream",
     "text": [
      "text = Депутат Рады обвинил Украину в дискриминации крымчан\n",
      "score =  0 , gold = Бывший СССР , predicted = 69-я параллель , prob = 0.05882352963089943\n",
      "[('69-я параллель', 0.05882352963089943),\n",
      " ('Бизнес', 0.05882352963089943),\n",
      " ('Бывший СССР', 0.05882352963089943)]\n",
      "text = Режим ЧС введут в пострадавшем от химикатов крымском городе\n",
      "score =  0 , gold = Россия , predicted = 69-я параллель , prob = 0.05882352963089943\n",
      "[('69-я параллель', 0.05882352963089943),\n",
      " ('Бизнес', 0.05882352963089943),\n",
      " ('Бывший СССР', 0.05882352963089943)]\n",
      "\n"
     ]
    }
   ],
   "source": [
    "def evaluate(tokenizer, textcat, df, debug=None):\n",
    "    docs_iter = tqdm((tokenizer(lemmatized(x[0])) for x in df), total=len(df))\n",
    "    good = 0\n",
    "    total = 0\n",
    "    for doc, x in zip(textcat.pipe(docs_iter), df):\n",
    "        gold = x[1]\n",
    "        results = sorted(doc.cats.items(), key=lambda x: -x[1])\n",
    "        best_label, best_score = results[0]\n",
    "        if debug and debug in x[0]:\n",
    "            print('text =', x[0])\n",
    "            print('score = ', int(best_label == gold), ', gold =', gold, ', predicted =', best_label, ', prob =', best_score)\n",
    "            print(str(results[:3]).replace('),','),\\n'))\n",
    "        if best_label == gold:\n",
    "            good += 1\n",
    "        total += 1\n",
    "    return {\"accuracy\": good / total}\n",
    "\n",
    "if textcat.model is True:\n",
    "    nlp.begin_training(**CFG)\n",
    "losses = evaluate(nlp.tokenizer, textcat, df_dev, debug='крым')"
   ]
  },
  {
   "cell_type": "code",
   "execution_count": 17,
   "metadata": {},
   "outputs": [
    {
     "data": {
      "image/png": "[encoded data removed]",
      "text/plain": [
       "<Figure size 864x576 with 1 Axes>"
      ]
     },
     "metadata": {
      "needs_background": "light"
     },
     "output_type": "display_data"
    }
   ],
   "source": [
    "liveloss = PlotLosses(plot_extrema=False)\n",
    "liveloss.update({'val_'+k:v for k,v in losses.items()})\n",
    "liveloss.draw()"
   ]
  },
  {
   "cell_type": "code",
   "execution_count": 18,
   "metadata": {},
   "outputs": [],
   "source": [
    "def make_optimizer():\n",
    "    from thinc.neural.optimizers import Adam\n",
    "    from thinc.neural import Model\n",
    "\n",
    "    # optimizer options. Defaults are changed where commented\n",
    "    ops = Model.ops\n",
    "    learn_rate = 0.001\n",
    "    beta1 = 0.9\n",
    "    beta2 = 0.999\n",
    "    eps = 1e-9\n",
    "    L2 = 1e-7\n",
    "    max_grad_norm = 100.0\n",
    "    optimizer = Adam(ops, learn_rate, L2=L2, beta1=beta1, beta2=beta2, eps=eps)\n",
    "    optimizer.max_grad_norm = max_grad_norm\n",
    "    optimizer.device = ops.device\n",
    "    return optimizer"
   ]
  },
  {
   "cell_type": "code",
   "execution_count": 19,
   "metadata": {},
   "outputs": [],
   "source": [
    "import math"
   ]
  },
  {
   "cell_type": "code",
   "execution_count": 20,
   "metadata": {},
   "outputs": [
    {
     "data": {
      "image/png": "[encoded data removed]",
      "text/plain": [
       "<Figure size 1296x576 with 3 Axes>"
      ]
     },
     "metadata": {
      "needs_background": "light"
     },
     "output_type": "display_data"
    },
    {
     "name": "stdout",
     "output_type": "stream",
     "text": [
      "accuracy:\n",
      "training   (min:    0.409, max:    0.987, cur:    0.980)\n",
      "validation (min:    0.403, max:    0.705, cur:    0.688)\n",
      "\n",
      "batch_size:\n",
      "training   (min:    6.000, max:   32.000, cur:   32.000)\n",
      "\n",
      "textcat log loss:\n",
      "training   (min:   -4.652, max:    3.653, cur:   -4.527)\n"
     ]
    }
   ],
   "source": [
    "n_iter = 100\n",
    "\n",
    "liveloss = PlotLosses(skip_first=0, max_cols=3)\n",
    "\n",
    "other_pipes = [pipe for pipe in nlp.pipe_names if pipe != \"textcat\"]\n",
    "with nlp.disable_pipes(*other_pipes):  # only train textcat\n",
    "    print(\"Training:\", nlp.pipeline)\n",
    "    optimizer = nlp.resume_training(**CFG)\n",
    "    #print(\"{:^5}\\t{:^5}\".format(\"LOSS\", \"ACC\"))\n",
    "    batch_sizes = compounding(4.0, 32.0, 1.0005)\n",
    "    for i in range(n_iter): #tqdm(range(n_iter)):\n",
    "        max_batch_size = 0\n",
    "        losses = {}\n",
    "        random.shuffle(df_train)\n",
    "        batches = minibatch(tqdm(df_train[:4000], leave=False), size=batch_sizes)\n",
    "        for j, batch in enumerate(batches):\n",
    "            max_batch_size = max(max_batch_size, len(batch))\n",
    "            #texts, annotations = zip(*batch)\n",
    "            docs = []\n",
    "            golds = []\n",
    "            for text, gold_cat in batch:\n",
    "                docs.append(lemmatized(text))\n",
    "                golds.append({'cats': {c: gold_cat==c for c in classes}})\n",
    "            nlp.update(docs, golds, sgd=optimizer, drop=0.2, losses=losses)\n",
    "        all_losses = evaluate(nlp.tokenizer, textcat, df_train[-2500:])\n",
    "        all_losses.update({'batch_size': max_batch_size, 'textcat log loss': math.log(1e-10 + losses['textcat'])})\n",
    "        val_losses = evaluate(nlp.tokenizer, textcat, df_dev)\n",
    "        all_losses.update({'val_'+k: v for k,v in val_losses.items()})\n",
    "        liveloss.update(all_losses)\n",
    "        liveloss.draw()"
   ]
  },
  {
   "cell_type": "code",
   "execution_count": null,
   "metadata": {},
   "outputs": [],
   "source": []
  },
  {
   "cell_type": "code",
   "execution_count": null,
   "metadata": {},
   "outputs": [],
   "source": []
  },
  {
   "cell_type": "code",
   "execution_count": null,
   "metadata": {},
   "outputs": [],
   "source": []
  },
  {
   "cell_type": "code",
   "execution_count": null,
   "metadata": {},
   "outputs": [],
   "source": []
  },
  {
   "cell_type": "code",
   "execution_count": null,
   "metadata": {},
   "outputs": [],
   "source": []
  },
  {
   "cell_type": "code",
   "execution_count": null,
   "metadata": {},
   "outputs": [],
   "source": []
  },
  {
   "cell_type": "code",
   "execution_count": null,
   "metadata": {},
   "outputs": [],
   "source": []
  },
  {
   "cell_type": "code",
   "execution_count": null,
   "metadata": {},
   "outputs": [],
   "source": []
  },
  {
   "cell_type": "code",
   "execution_count": null,
   "metadata": {},
   "outputs": [],
   "source": []
  }
 ],
 "metadata": {
  "kernelspec": {
   "display_name": "Python 3",
   "language": "python",
   "name": "python3"
  },
  "language_info": {
   "codemirror_mode": {
    "name": "ipython",
    "version": 3
   },
   "file_extension": ".py",
   "mimetype": "text/x-python",
   "name": "python",
   "nbconvert_exporter": "python",
   "pygments_lexer": "ipython3",
   "version": "3.6.8"
  }
 },
 "nbformat": 4,
 "nbformat_minor": 1
}
