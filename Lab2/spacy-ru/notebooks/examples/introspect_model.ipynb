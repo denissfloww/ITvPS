{
 "cells": [
  {
   "cell_type": "code",
   "execution_count": 34,
   "metadata": {},
   "outputs": [],
   "source": [
    "import spacy, pprint\n",
    "m2 = spacy.load('../../ru2_ner')"
   ]
  },
  {
   "cell_type": "code",
   "execution_count": 35,
   "metadata": {},
   "outputs": [
    {
     "name": "stdout",
     "output_type": "stream",
     "text": [
      "\u001b[1m\n",
      "============================= Pipeline Overview =============================\u001b[0m\n",
      "\n",
      "#   Component   Requires   Assigns   Retokenizes\n",
      "-   ---------   --------   -------   -----------\n",
      "0   tagger                           False      \n",
      "                                                \n",
      "1   parser                           False      \n",
      "                                                \n",
      "2   ner                              False      \n",
      "\n",
      "\u001b[38;5;2m✔ No problems found.\u001b[0m\n"
     ]
    }
   ],
   "source": [
    "from notebooks.examples import analysis  # backported from spacy 2.2\n",
    "analysis.print_summary(m2)"
   ]
  },
  {
   "cell_type": "code",
   "execution_count": 36,
   "metadata": {},
   "outputs": [],
   "source": [
    "from pdb import set_trace"
   ]
  },
  {
   "cell_type": "code",
   "execution_count": 37,
   "metadata": {},
   "outputs": [],
   "source": [
    "def descr_layers(layers):\n",
    "    r = []\n",
    "    for l in list(layers):\n",
    "        x = {}\n",
    "        x['name'] = l.__class__.__name__\n",
    "        #if x['name'] == 'HashEmbed':\n",
    "        #    set_trace()\n",
    "        if l._dims:\n",
    "            x['dims'] = l._dims\n",
    "        if l._layers:\n",
    "            x['layers'] = descr_layers(l._layers)\n",
    "        r.append(x)\n",
    "    return r\n",
    "\n",
    "def descr(model):\n",
    "    #print('Moves:', model.move_names)\n",
    "    r = {\n",
    "        'layers': descr_layers(model.model._layers)\n",
    "    }\n",
    "    if hasattr(model, 'move_names'):\n",
    "        r['moves'] = len(model.move_names)\n",
    "    return r"
   ]
  },
  {
   "cell_type": "code",
   "execution_count": 38,
   "metadata": {},
   "outputs": [
    {
     "data": {
      "text/plain": [
       "{'layers': [{'name': 'FeatureExtracter'},\n",
       "  {'name': 'FunctionLayer',\n",
       "   'layers': [{'name': 'FeedForward',\n",
       "     'layers': [{'name': 'FunctionLayer',\n",
       "       'layers': [{'name': 'FeedForward',\n",
       "         'layers': [{'name': 'FunctionLayer',\n",
       "           'layers': [{'name': 'FunctionLayer',\n",
       "             'layers': [{'name': 'FunctionLayer',\n",
       "               'layers': [{'name': 'HashEmbed',\n",
       "                 'dims': {'nO': 96, 'nV': 2000}},\n",
       "                {'name': 'HashEmbed', 'dims': {'nO': 96, 'nV': 1000}}]},\n",
       "              {'name': 'HashEmbed', 'dims': {'nO': 96, 'nV': 1000}}]},\n",
       "            {'name': 'HashEmbed', 'dims': {'nO': 96, 'nV': 1000}}]},\n",
       "          {'name': 'LayerNorm',\n",
       "           'layers': [{'name': 'Maxout',\n",
       "             'dims': {'nO': 96, 'nI': 384, 'nP': 3}}]}]}]},\n",
       "      {'name': 'Residual',\n",
       "       'layers': [{'name': 'FeedForward',\n",
       "         'layers': [{'name': 'ExtractWindow', 'dims': {'nW': 1}},\n",
       "          {'name': 'LayerNorm',\n",
       "           'layers': [{'name': 'Maxout',\n",
       "             'dims': {'nO': 96, 'nI': 288, 'nP': 3}}]}]}]},\n",
       "      {'name': 'Residual',\n",
       "       'layers': [{'name': 'FeedForward',\n",
       "         'layers': [{'name': 'ExtractWindow', 'dims': {'nW': 1}},\n",
       "          {'name': 'LayerNorm',\n",
       "           'layers': [{'name': 'Maxout',\n",
       "             'dims': {'nO': 96, 'nI': 288, 'nP': 3}}]}]}]},\n",
       "      {'name': 'Residual',\n",
       "       'layers': [{'name': 'FeedForward',\n",
       "         'layers': [{'name': 'ExtractWindow', 'dims': {'nW': 1}},\n",
       "          {'name': 'LayerNorm',\n",
       "           'layers': [{'name': 'Maxout',\n",
       "             'dims': {'nO': 96, 'nI': 288, 'nP': 3}}]}]}]},\n",
       "      {'name': 'Residual',\n",
       "       'layers': [{'name': 'FeedForward',\n",
       "         'layers': [{'name': 'ExtractWindow', 'dims': {'nW': 1}},\n",
       "          {'name': 'LayerNorm',\n",
       "           'layers': [{'name': 'Maxout',\n",
       "             'dims': {'nO': 96, 'nI': 288, 'nP': 3}}]}]}]}]}]},\n",
       "  {'name': 'FunctionLayer',\n",
       "   'layers': [{'name': 'Softmax', 'dims': {'nO': 734, 'nI': 96}}]}]}"
      ]
     },
     "metadata": {},
     "output_type": "display_data"
    }
   ],
   "source": [
    "display(descr(m2.get_pipe('tagger')))"
   ]
  },
  {
   "cell_type": "code",
   "execution_count": 39,
   "metadata": {},
   "outputs": [
    {
     "data": {
      "text/plain": [
       "{'layers': [{'name': 'FeedForward',\n",
       "   'layers': [{'name': 'FeatureExtracter'},\n",
       "    {'name': 'FunctionLayer',\n",
       "     'layers': [{'name': 'FeedForward',\n",
       "       'layers': [{'name': 'FunctionLayer',\n",
       "         'layers': [{'name': 'FeedForward',\n",
       "           'layers': [{'name': 'FunctionLayer',\n",
       "             'layers': [{'name': 'FunctionLayer',\n",
       "               'layers': [{'name': 'FunctionLayer',\n",
       "                 'layers': [{'name': 'HashEmbed',\n",
       "                   'dims': {'nO': 96, 'nV': 2000}},\n",
       "                  {'name': 'HashEmbed', 'dims': {'nO': 96, 'nV': 1000}}]},\n",
       "                {'name': 'HashEmbed', 'dims': {'nO': 96, 'nV': 1000}}]},\n",
       "              {'name': 'HashEmbed', 'dims': {'nO': 96, 'nV': 1000}}]},\n",
       "            {'name': 'LayerNorm',\n",
       "             'layers': [{'name': 'Maxout',\n",
       "               'dims': {'nO': 96, 'nI': 384, 'nP': 3}}]}]}]},\n",
       "        {'name': 'Residual',\n",
       "         'layers': [{'name': 'FeedForward',\n",
       "           'layers': [{'name': 'ExtractWindow', 'dims': {'nW': 1}},\n",
       "            {'name': 'LayerNorm',\n",
       "             'layers': [{'name': 'Maxout',\n",
       "               'dims': {'nO': 96, 'nI': 288, 'nP': 3}}]}]}]},\n",
       "        {'name': 'Residual',\n",
       "         'layers': [{'name': 'FeedForward',\n",
       "           'layers': [{'name': 'ExtractWindow', 'dims': {'nW': 1}},\n",
       "            {'name': 'LayerNorm',\n",
       "             'layers': [{'name': 'Maxout',\n",
       "               'dims': {'nO': 96, 'nI': 288, 'nP': 3}}]}]}]},\n",
       "        {'name': 'Residual',\n",
       "         'layers': [{'name': 'FeedForward',\n",
       "           'layers': [{'name': 'ExtractWindow', 'dims': {'nW': 1}},\n",
       "            {'name': 'LayerNorm',\n",
       "             'layers': [{'name': 'Maxout',\n",
       "               'dims': {'nO': 96, 'nI': 288, 'nP': 3}}]}]}]},\n",
       "        {'name': 'Residual',\n",
       "         'layers': [{'name': 'FeedForward',\n",
       "           'layers': [{'name': 'ExtractWindow', 'dims': {'nW': 1}},\n",
       "            {'name': 'LayerNorm',\n",
       "             'layers': [{'name': 'Maxout',\n",
       "               'dims': {'nO': 96, 'nI': 288, 'nP': 3}}]}]}]}]}]},\n",
       "    {'name': 'FunctionLayer'}]},\n",
       "  {'name': 'PrecomputableAffine',\n",
       "   'dims': {'nO': 64, 'nP': 2, 'nI': 96, 'nF': 6}},\n",
       "  {'name': 'Affine', 'dims': {'nO': 13, 'nI': 64}}],\n",
       " 'moves': 13}"
      ]
     },
     "metadata": {},
     "output_type": "display_data"
    }
   ],
   "source": [
    "display(descr(m2.get_pipe('ner')))"
   ]
  },
  {
   "cell_type": "code",
   "execution_count": null,
   "metadata": {},
   "outputs": [],
   "source": []
  }
 ],
 "metadata": {
  "kernelspec": {
   "display_name": "Python 3",
   "language": "python",
   "name": "python3"
  },
  "language_info": {
   "codemirror_mode": {
    "name": "ipython",
    "version": 3
   },
   "file_extension": ".py",
   "mimetype": "text/x-python",
   "name": "python",
   "nbconvert_exporter": "python",
   "pygments_lexer": "ipython3",
   "version": "3.6.8"
  }
 },
 "nbformat": 4,
 "nbformat_minor": 2
}
