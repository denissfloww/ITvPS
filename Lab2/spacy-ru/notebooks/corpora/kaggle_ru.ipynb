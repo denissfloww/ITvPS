{
 "cells": [
  {
   "cell_type": "markdown",
   "metadata": {},
   "source": [
    "## 1. load and convert data into common training format"
   ]
  },
  {
   "cell_type": "code",
   "execution_count": 1,
   "metadata": {
    "pycharm": {
     "is_executing": false,
     "name": "#%%\n"
    }
   },
   "outputs": [],
   "source": [
    "import pandas\n",
    "from tqdm.auto import tqdm\n",
    "import spacy.gold"
   ]
  },
  {
   "cell_type": "code",
   "execution_count": 2,
   "metadata": {
    "pycharm": {
     "is_executing": false,
     "name": "#%%\n"
    }
   },
   "outputs": [],
   "source": [
    "ROOT = '../../data/kaggle-ru/'\n",
    "train_data = pandas.read_csv(ROOT+'ru_train.csv')"
   ]
  },
  {
   "cell_type": "code",
   "execution_count": 3,
   "metadata": {
    "pycharm": {
     "is_executing": false,
     "name": "#%%\n"
    }
   },
   "outputs": [],
   "source": [
    "train_data[['before', 'after']] = train_data[['before', 'after']].astype(str)"
   ]
  },
  {
   "cell_type": "code",
   "execution_count": 4,
   "metadata": {
    "pycharm": {
     "is_executing": false,
     "name": "#%%\n"
    }
   },
   "outputs": [
    {
     "data": {
      "text/html": [
       "<div>\n",
       "<style scoped>\n",
       "    .dataframe tbody tr th:only-of-type {\n",
       "        vertical-align: middle;\n",
       "    }\n",
       "\n",
       "    .dataframe tbody tr th {\n",
       "        vertical-align: top;\n",
       "    }\n",
       "\n",
       "    .dataframe thead th {\n",
       "        text-align: right;\n",
       "    }\n",
       "</style>\n",
       "<table border=\"1\" class=\"dataframe\">\n",
       "  <thead>\n",
       "    <tr style=\"text-align: right;\">\n",
       "      <th></th>\n",
       "      <th>sentence_id</th>\n",
       "      <th>token_id</th>\n",
       "      <th>class</th>\n",
       "      <th>before</th>\n",
       "      <th>after</th>\n",
       "    </tr>\n",
       "  </thead>\n",
       "  <tbody>\n",
       "    <tr>\n",
       "      <th>0</th>\n",
       "      <td>0</td>\n",
       "      <td>0</td>\n",
       "      <td>PLAIN</td>\n",
       "      <td>По</td>\n",
       "      <td>По</td>\n",
       "    </tr>\n",
       "    <tr>\n",
       "      <th>1</th>\n",
       "      <td>0</td>\n",
       "      <td>1</td>\n",
       "      <td>PLAIN</td>\n",
       "      <td>состоянию</td>\n",
       "      <td>состоянию</td>\n",
       "    </tr>\n",
       "    <tr>\n",
       "      <th>2</th>\n",
       "      <td>0</td>\n",
       "      <td>2</td>\n",
       "      <td>PLAIN</td>\n",
       "      <td>на</td>\n",
       "      <td>на</td>\n",
       "    </tr>\n",
       "    <tr>\n",
       "      <th>3</th>\n",
       "      <td>0</td>\n",
       "      <td>3</td>\n",
       "      <td>DATE</td>\n",
       "      <td>1862 год</td>\n",
       "      <td>тысяча восемьсот шестьдесят второй год</td>\n",
       "    </tr>\n",
       "    <tr>\n",
       "      <th>4</th>\n",
       "      <td>0</td>\n",
       "      <td>4</td>\n",
       "      <td>PUNCT</td>\n",
       "      <td>.</td>\n",
       "      <td>.</td>\n",
       "    </tr>\n",
       "    <tr>\n",
       "      <th>5</th>\n",
       "      <td>1</td>\n",
       "      <td>0</td>\n",
       "      <td>PLAIN</td>\n",
       "      <td>Оснащались</td>\n",
       "      <td>Оснащались</td>\n",
       "    </tr>\n",
       "    <tr>\n",
       "      <th>6</th>\n",
       "      <td>1</td>\n",
       "      <td>1</td>\n",
       "      <td>PLAIN</td>\n",
       "      <td>латными</td>\n",
       "      <td>латными</td>\n",
       "    </tr>\n",
       "    <tr>\n",
       "      <th>7</th>\n",
       "      <td>1</td>\n",
       "      <td>2</td>\n",
       "      <td>PLAIN</td>\n",
       "      <td>рукавицами</td>\n",
       "      <td>рукавицами</td>\n",
       "    </tr>\n",
       "    <tr>\n",
       "      <th>8</th>\n",
       "      <td>1</td>\n",
       "      <td>3</td>\n",
       "      <td>PLAIN</td>\n",
       "      <td>и</td>\n",
       "      <td>и</td>\n",
       "    </tr>\n",
       "    <tr>\n",
       "      <th>9</th>\n",
       "      <td>1</td>\n",
       "      <td>4</td>\n",
       "      <td>PLAIN</td>\n",
       "      <td>сабатонами</td>\n",
       "      <td>сабатонами</td>\n",
       "    </tr>\n",
       "    <tr>\n",
       "      <th>10</th>\n",
       "      <td>1</td>\n",
       "      <td>5</td>\n",
       "      <td>PLAIN</td>\n",
       "      <td>с</td>\n",
       "      <td>с</td>\n",
       "    </tr>\n",
       "    <tr>\n",
       "      <th>11</th>\n",
       "      <td>1</td>\n",
       "      <td>6</td>\n",
       "      <td>PLAIN</td>\n",
       "      <td>не</td>\n",
       "      <td>не</td>\n",
       "    </tr>\n",
       "    <tr>\n",
       "      <th>12</th>\n",
       "      <td>1</td>\n",
       "      <td>7</td>\n",
       "      <td>PLAIN</td>\n",
       "      <td>длинными</td>\n",
       "      <td>длинными</td>\n",
       "    </tr>\n",
       "    <tr>\n",
       "      <th>13</th>\n",
       "      <td>1</td>\n",
       "      <td>8</td>\n",
       "      <td>PLAIN</td>\n",
       "      <td>носками</td>\n",
       "      <td>носками</td>\n",
       "    </tr>\n",
       "    <tr>\n",
       "      <th>14</th>\n",
       "      <td>1</td>\n",
       "      <td>9</td>\n",
       "      <td>PUNCT</td>\n",
       "      <td>.</td>\n",
       "      <td>.</td>\n",
       "    </tr>\n",
       "  </tbody>\n",
       "</table>\n",
       "</div>"
      ],
      "text/plain": [
       "    sentence_id  token_id  class      before  \\\n",
       "0             0         0  PLAIN          По   \n",
       "1             0         1  PLAIN   состоянию   \n",
       "2             0         2  PLAIN          на   \n",
       "3             0         3   DATE    1862 год   \n",
       "4             0         4  PUNCT           .   \n",
       "5             1         0  PLAIN  Оснащались   \n",
       "6             1         1  PLAIN     латными   \n",
       "7             1         2  PLAIN  рукавицами   \n",
       "8             1         3  PLAIN           и   \n",
       "9             1         4  PLAIN  сабатонами   \n",
       "10            1         5  PLAIN           с   \n",
       "11            1         6  PLAIN          не   \n",
       "12            1         7  PLAIN    длинными   \n",
       "13            1         8  PLAIN     носками   \n",
       "14            1         9  PUNCT           .   \n",
       "\n",
       "                                     after  \n",
       "0                                       По  \n",
       "1                                состоянию  \n",
       "2                                       на  \n",
       "3   тысяча восемьсот шестьдесят второй год  \n",
       "4                                        .  \n",
       "5                               Оснащались  \n",
       "6                                  латными  \n",
       "7                               рукавицами  \n",
       "8                                        и  \n",
       "9                               сабатонами  \n",
       "10                                       с  \n",
       "11                                      не  \n",
       "12                                длинными  \n",
       "13                                 носками  \n",
       "14                                       .  "
      ]
     },
     "execution_count": 4,
     "metadata": {},
     "output_type": "execute_result"
    }
   ],
   "source": [
    "train_data.head(15)"
   ]
  },
  {
   "cell_type": "code",
   "execution_count": 5,
   "metadata": {},
   "outputs": [],
   "source": [
    "fix = train_data['class']=='PLAIN'\n",
    "train_data.loc[fix, 'after'] = train_data[fix]['before']"
   ]
  },
  {
   "cell_type": "code",
   "execution_count": 6,
   "metadata": {
    "pycharm": {
     "is_executing": false,
     "name": "#%%\n"
    }
   },
   "outputs": [],
   "source": [
    "fix = train_data['class']=='LETTERS'\n",
    "train_data.loc[fix, 'after'] = train_data[fix]['before']"
   ]
  },
  {
   "cell_type": "code",
   "execution_count": 7,
   "metadata": {
    "pycharm": {
     "is_executing": false,
     "name": "#%%\n"
    }
   },
   "outputs": [
    {
     "data": {
      "text/html": [
       "<div>\n",
       "<style scoped>\n",
       "    .dataframe tbody tr th:only-of-type {\n",
       "        vertical-align: middle;\n",
       "    }\n",
       "\n",
       "    .dataframe tbody tr th {\n",
       "        vertical-align: top;\n",
       "    }\n",
       "\n",
       "    .dataframe thead th {\n",
       "        text-align: right;\n",
       "    }\n",
       "</style>\n",
       "<table border=\"1\" class=\"dataframe\">\n",
       "  <thead>\n",
       "    <tr style=\"text-align: right;\">\n",
       "      <th></th>\n",
       "      <th>sentence_id</th>\n",
       "      <th>token_id</th>\n",
       "      <th>class</th>\n",
       "      <th>before</th>\n",
       "      <th>after</th>\n",
       "    </tr>\n",
       "  </thead>\n",
       "  <tbody>\n",
       "    <tr>\n",
       "      <th>6042265</th>\n",
       "      <td>435799</td>\n",
       "      <td>0</td>\n",
       "      <td>LETTERS</td>\n",
       "      <td>отд</td>\n",
       "      <td>отд</td>\n",
       "    </tr>\n",
       "    <tr>\n",
       "      <th>9205327</th>\n",
       "      <td>663144</td>\n",
       "      <td>4</td>\n",
       "      <td>LETTERS</td>\n",
       "      <td>И.</td>\n",
       "      <td>И.</td>\n",
       "    </tr>\n",
       "    <tr>\n",
       "      <th>7280851</th>\n",
       "      <td>525001</td>\n",
       "      <td>0</td>\n",
       "      <td>LETTERS</td>\n",
       "      <td>Д. И.</td>\n",
       "      <td>Д. И.</td>\n",
       "    </tr>\n",
       "    <tr>\n",
       "      <th>2980366</th>\n",
       "      <td>215777</td>\n",
       "      <td>8</td>\n",
       "      <td>LETTERS</td>\n",
       "      <td>М.</td>\n",
       "      <td>М.</td>\n",
       "    </tr>\n",
       "    <tr>\n",
       "      <th>10206284</th>\n",
       "      <td>734977</td>\n",
       "      <td>12</td>\n",
       "      <td>LETTERS</td>\n",
       "      <td>др</td>\n",
       "      <td>др</td>\n",
       "    </tr>\n",
       "    <tr>\n",
       "      <th>9459787</th>\n",
       "      <td>681394</td>\n",
       "      <td>4</td>\n",
       "      <td>LETTERS</td>\n",
       "      <td>СПбГУ</td>\n",
       "      <td>СПбГУ</td>\n",
       "    </tr>\n",
       "    <tr>\n",
       "      <th>4918892</th>\n",
       "      <td>355261</td>\n",
       "      <td>6</td>\n",
       "      <td>LETTERS</td>\n",
       "      <td>П.Г.</td>\n",
       "      <td>П.Г.</td>\n",
       "    </tr>\n",
       "    <tr>\n",
       "      <th>5942271</th>\n",
       "      <td>428637</td>\n",
       "      <td>0</td>\n",
       "      <td>LETTERS</td>\n",
       "      <td>ISBN</td>\n",
       "      <td>ISBN</td>\n",
       "    </tr>\n",
       "    <tr>\n",
       "      <th>7753276</th>\n",
       "      <td>558916</td>\n",
       "      <td>1</td>\n",
       "      <td>LETTERS</td>\n",
       "      <td>Т. Д.</td>\n",
       "      <td>Т. Д.</td>\n",
       "    </tr>\n",
       "    <tr>\n",
       "      <th>5598248</th>\n",
       "      <td>403959</td>\n",
       "      <td>1</td>\n",
       "      <td>LETTERS</td>\n",
       "      <td>ХК</td>\n",
       "      <td>ХК</td>\n",
       "    </tr>\n",
       "  </tbody>\n",
       "</table>\n",
       "</div>"
      ],
      "text/plain": [
       "          sentence_id  token_id    class before  after\n",
       "6042265        435799         0  LETTERS    отд    отд\n",
       "9205327        663144         4  LETTERS     И.     И.\n",
       "7280851        525001         0  LETTERS  Д. И.  Д. И.\n",
       "2980366        215777         8  LETTERS     М.     М.\n",
       "10206284       734977        12  LETTERS     др     др\n",
       "9459787        681394         4  LETTERS  СПбГУ  СПбГУ\n",
       "4918892        355261         6  LETTERS   П.Г.   П.Г.\n",
       "5942271        428637         0  LETTERS   ISBN   ISBN\n",
       "7753276        558916         1  LETTERS  Т. Д.  Т. Д.\n",
       "5598248        403959         1  LETTERS     ХК     ХК"
      ]
     },
     "execution_count": 7,
     "metadata": {},
     "output_type": "execute_result"
    }
   ],
   "source": [
    "train_data[train_data['class']=='LETTERS'].sample(10)"
   ]
  },
  {
   "cell_type": "code",
   "execution_count": 8,
   "metadata": {
    "pycharm": {
     "is_executing": false,
     "name": "#%%\n"
    }
   },
   "outputs": [
    {
     "data": {
      "text/plain": [
       "class\n",
       "TIME             1945\n",
       "DIGIT            2012\n",
       "FRACTION         2460\n",
       "MONEY            2690\n",
       "ELECTRONIC       5832\n",
       "DECIMAL          7297\n",
       "TELEPHONE       10088\n",
       "MEASURE         40534\n",
       "ORDINAL         46738\n",
       "VERBATIM       157912\n",
       "DATE           185959\n",
       "LETTERS        189528\n",
       "CARDINAL       272442\n",
       "PUNCT         2288640\n",
       "PLAIN         7360439\n",
       "Name: class, dtype: int64"
      ]
     },
     "execution_count": 8,
     "metadata": {},
     "output_type": "execute_result"
    }
   ],
   "source": [
    "train_data.groupby('class')['class'].count().sort_values()"
   ]
  },
  {
   "cell_type": "code",
   "execution_count": 9,
   "metadata": {
    "pycharm": {
     "is_executing": false,
     "name": "#%%\n"
    }
   },
   "outputs": [],
   "source": [
    "EXTRACT = {\n",
    "    'TIME': 'TIME',\n",
    "    'DIGIT': 'CARDINAL',\n",
    "    'FRACTION': 'CARDINAL',\n",
    "    'MONEY': 'MONEY',\n",
    "    'ELECTRONIC': None,\n",
    "    'DECIMAL': 'CARDINAL',\n",
    "    'TELEPHONE': 'PHONE',\n",
    "    'MEASURE': 'QUANTITY',\n",
    "    'ORDINAL': 'ORDINAL',\n",
    "    'VERBATIM': None,\n",
    "    'DATE': 'DATE',\n",
    "    'LETTERS': None,\n",
    "    'CARDINAL': 'CARDINAL',\n",
    "    'PUNCT': None,\n",
    "    'PLAIN': None    \n",
    "}"
   ]
  },
  {
   "cell_type": "markdown",
   "metadata": {
    "pycharm": {
     "name": "#%% md\n"
    }
   },
   "source": [
    "#### Task:\n",
    "- 1) Split words into sentences\n",
    "- 2) For each sentence, find token start and token end position\n",
    "- 2.1) Ignore the following tokens, rename others, see EXTRACT map\n",
    "- 2.2) Convert tokens list into plain text.\n",
    "- 2.3) Remember start and end character position of each token in the text.\n",
    "- 2.4) Save the text into target format\n",
    "\n",
    "#### Source format:\n",
    "```\n",
    "sentence_id | token_id | class_name | before | after\n",
    "----------------------------------------------------\n",
    " NNN        | NNN      | PLAIN      | 123    | сто двадцать три\n",
    "...\n",
    "```\n",
    "\n",
    "#### Internal representation:\n",
    "```\n",
    "TRAIN_DATA = [\n",
    "    {\"raw\": \"Who is Shaka Khan?\", \"entities\": [(7, 17, \"PERSON\")]},\n",
    "    {\"raw\": \"I like London and Berlin.\", {\"entities\": [(7, 13, \"LOC\"), (18, 24, \"LOC\")]}\n",
    "]\n",
    "```\n",
    "#### Output format:\n",
    "One line per sentence, .jsonl."
   ]
  },
  {
   "cell_type": "code",
   "execution_count": 10,
   "metadata": {
    "pycharm": {
     "is_executing": false,
     "name": "#%%\n"
    }
   },
   "outputs": [],
   "source": [
    "EXAMPLES = [{\n",
    "    \"tokens\": ['По', 'состоянию', 'на', '1862 год', '-', 'часы', '«', 'отставали', '»', 'на', '5 секунд', '.'],\n",
    "    \"tags\": ['PLAIN', 'PLAIN', 'PLAIN', 'DATE', 'PUNCT', 'PLAIN', 'PUNCT', 'PLAIN', 'PUNCT', 'PLAIN', 'TIME', 'PUNCT'],\n",
    "    \"text\": \"По состоянию на 1862 год - часы «отставали» на 5 секунд.\",\n",
    "    \"entities\": [\n",
    "        (16, 24, 'DATE'),\n",
    "        (47, 55, 'TIME'),\n",
    "    ]\n",
    "},{\n",
    "    \"tokens\": ['По', 'состоянию', 'на', 'тысяча восемьсот шестьдесят второй год', '.'],\n",
    "    \"tags\": ['PLAIN', 'PLAIN', 'PLAIN', 'DATE', 'PUNCT'],\n",
    "    \"text\": \"По состоянию на тысяча восемьсот шестьдесят второй год.\",\n",
    "    \"entities\": [\n",
    "        (16, 54, 'DATE')\n",
    "    ]\n",
    "}]\n",
    "\n",
    "def convert_sentence(words, tags):\n",
    "    pos = 0\n",
    "    positions = []\n",
    "    chunks = []\n",
    "    prev_w, prev_t = '', 'START'\n",
    "    for w, t, prev_t in zip(words, tags, ['START']+tags[:-1]):\n",
    "        if (t != 'PUNCT' or w in '--—–«([{') and prev_t != 'START' and prev_w not in \"«([{\":\n",
    "            pos += 1  # add whitespace\n",
    "            chunks.append(' ')\n",
    "        start = pos\n",
    "        pos += len(w)\n",
    "        chunks.append(w)\n",
    "        end = pos\n",
    "        target_type = EXTRACT.get(t)\n",
    "        if target_type is not None:\n",
    "            positions.append((start, end, target_type))\n",
    "        prev_w, prev_t = w, t\n",
    "    text = ''.join(chunks).rstrip()\n",
    "    return {'raw': text, 'entities': positions}"
   ]
  },
  {
   "cell_type": "code",
   "execution_count": 12,
   "metadata": {
    "pycharm": {
     "is_executing": false,
     "name": "#%%\n"
    }
   },
   "outputs": [],
   "source": [
    "def test(nlp_pipe):\n",
    "    for e in EXAMPLES:\n",
    "        result = convert_sentence(e['tokens'], e['tags'])\n",
    "        result_text, result_entities = result['raw'], result['entities']\n",
    "        assert result_text == e['text'], f\"'{result_text}' !=\\n'{e['text']}'\"\n",
    "        assert result_entities == e['entities'], f\"'{result_entities}' !=\\n'{e['entities']}'\"\n",
    "\n",
    "nlp_pipe = spacy.blank('ru')\n",
    "test(nlp_pipe)"
   ]
  },
  {
   "cell_type": "code",
   "execution_count": 13,
   "metadata": {},
   "outputs": [],
   "source": [
    "def iter_group(group):\n",
    "    #display(name, group)\n",
    "    tags = list(group['class'])\n",
    "    tokens = list(group['before']) \n",
    "    tokens2 = list(group['after']) \n",
    "    yield tokens, tags\n",
    "    if tokens != tokens2:\n",
    "        yield tokens2, tags"
   ]
  },
  {
   "cell_type": "code",
   "execution_count": 14,
   "metadata": {},
   "outputs": [
    {
     "data": {
      "application/vnd.jupyter.widget-view+json": {
       "model_id": "e1a1f1a2134b401fac4cce23b6dd7e81",
       "version_major": 2,
       "version_minor": 0
      },
      "text/plain": [
       "HBox(children=(FloatProgress(value=0.0, max=761436.0), HTML(value='')))"
      ]
     },
     "metadata": {},
     "output_type": "display_data"
    },
    {
     "name": "stdout",
     "output_type": "stream",
     "text": [
      "\n"
     ]
    }
   ],
   "source": [
    "sentences = []\n",
    "df_sentences = train_data.groupby('sentence_id')\n",
    "for sentence_id, group in tqdm(df_sentences, total=len(train_data['sentence_id'].unique())):\n",
    "    for tokens, tags in iter_group(group):\n",
    "        sentences.append(convert_sentence(tokens, tags))"
   ]
  },
  {
   "cell_type": "markdown",
   "metadata": {},
   "source": [
    "## 2. splitting into train/test and saving"
   ]
  },
  {
   "cell_type": "code",
   "execution_count": 15,
   "metadata": {},
   "outputs": [],
   "source": [
    "from sklearn.model_selection import train_test_split"
   ]
  },
  {
   "cell_type": "code",
   "execution_count": 16,
   "metadata": {},
   "outputs": [
    {
     "name": "stdout",
     "output_type": "stream",
     "text": [
      "1087147 20000\n"
     ]
    }
   ],
   "source": [
    "ds_train, ds_test = train_test_split(sentences, test_size=20000, random_state=42)\n",
    "\n",
    "print(len(ds_train), len(ds_test))"
   ]
  },
  {
   "cell_type": "code",
   "execution_count": 17,
   "metadata": {},
   "outputs": [],
   "source": [
    "import gzip, json\n",
    "def save_entries(fn, entries):\n",
    "    with gzip.open(fn, 'wt') as f:\n",
    "        for z in tqdm(entries):\n",
    "            json.dump(z, f, ensure_ascii=False)\n",
    "            f.write('\\n')\n",
    "        f.close()"
   ]
  },
  {
   "cell_type": "code",
   "execution_count": 18,
   "metadata": {},
   "outputs": [
    {
     "data": {
      "application/vnd.jupyter.widget-view+json": {
       "model_id": "41dfd766759e4696bb316062cd1735a0",
       "version_major": 2,
       "version_minor": 0
      },
      "text/plain": [
       "HBox(children=(FloatProgress(value=0.0, max=20000.0), HTML(value='')))"
      ]
     },
     "metadata": {},
     "output_type": "display_data"
    },
    {
     "name": "stdout",
     "output_type": "stream",
     "text": [
      "\n"
     ]
    }
   ],
   "source": [
    "save_entries('../../data/datasets/kaggle_ru_test.jsonl.gz', ds_test)"
   ]
  },
  {
   "cell_type": "code",
   "execution_count": 19,
   "metadata": {},
   "outputs": [
    {
     "data": {
      "application/vnd.jupyter.widget-view+json": {
       "model_id": "fa170a21f9634da48de1e2072e728253",
       "version_major": 2,
       "version_minor": 0
      },
      "text/plain": [
       "HBox(children=(FloatProgress(value=0.0, max=1087147.0), HTML(value='')))"
      ]
     },
     "metadata": {},
     "output_type": "display_data"
    },
    {
     "name": "stdout",
     "output_type": "stream",
     "text": [
      "\n"
     ]
    }
   ],
   "source": [
    "save_entries('../../data/datasets/kaggle_ru_train.jsonl.gz', ds_train)"
   ]
  },
  {
   "cell_type": "markdown",
   "metadata": {},
   "source": [
    "## 3. Loading and checking everything went smoothly"
   ]
  },
  {
   "cell_type": "code",
   "execution_count": 20,
   "metadata": {},
   "outputs": [],
   "source": [
    "import gzip, json\n",
    "def load_entries(fn): # '../data/datasets/nerus.jsonl.gz'\n",
    "    entries = []\n",
    "    with gzip.open(fn, 'r') as f:\n",
    "        for line in tqdm(f):\n",
    "            entry = json.loads(line)\n",
    "            entries.append(entry)\n",
    "    return entries\n",
    "    #del entries"
   ]
  },
  {
   "cell_type": "code",
   "execution_count": 21,
   "metadata": {},
   "outputs": [
    {
     "data": {
      "application/vnd.jupyter.widget-view+json": {
       "model_id": "49d08501a1974961ba9906b3c8ecb71a",
       "version_major": 2,
       "version_minor": 0
      },
      "text/plain": [
       "HBox(children=(FloatProgress(value=1.0, bar_style='info', max=1.0), HTML(value='')))"
      ]
     },
     "metadata": {},
     "output_type": "display_data"
    },
    {
     "name": "stdout",
     "output_type": "stream",
     "text": [
      "\n"
     ]
    }
   ],
   "source": [
    "ds_test = load_entries('../../data/datasets/kaggle_ru_test.jsonl.gz')"
   ]
  },
  {
   "cell_type": "code",
   "execution_count": 22,
   "metadata": {},
   "outputs": [
    {
     "data": {
      "application/vnd.jupyter.widget-view+json": {
       "model_id": "fb4e0a23a28c4021a8324df0fac468b8",
       "version_major": 2,
       "version_minor": 0
      },
      "text/plain": [
       "HBox(children=(FloatProgress(value=1.0, bar_style='info', max=1.0), HTML(value='')))"
      ]
     },
     "metadata": {},
     "output_type": "display_data"
    },
    {
     "name": "stdout",
     "output_type": "stream",
     "text": [
      "\n"
     ]
    }
   ],
   "source": [
    "ds_train = load_entries('../../data/datasets/kaggle_ru_train.jsonl.gz')"
   ]
  },
  {
   "cell_type": "code",
   "execution_count": null,
   "metadata": {},
   "outputs": [],
   "source": []
  }
 ],
 "metadata": {
  "kernelspec": {
   "display_name": "Python 3",
   "language": "python",
   "name": "python3"
  },
  "language_info": {
   "codemirror_mode": {
    "name": "ipython",
    "version": 3
   },
   "file_extension": ".py",
   "mimetype": "text/x-python",
   "name": "python",
   "nbconvert_exporter": "python",
   "pygments_lexer": "ipython3",
   "version": "3.6.8"
  },
  "pycharm": {
   "stem_cell": {
    "cell_type": "raw",
    "metadata": {
     "collapsed": false
    },
    "source": []
   }
  }
 },
 "nbformat": 4,
 "nbformat_minor": 1
}
