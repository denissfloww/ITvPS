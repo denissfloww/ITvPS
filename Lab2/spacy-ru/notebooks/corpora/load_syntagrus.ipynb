{
 "cells": [
  {
   "cell_type": "code",
   "execution_count": 1,
   "metadata": {},
   "outputs": [],
   "source": [
    "#!/usr/bin/env python\n",
    "# coding: utf8\n",
    "from __future__ import unicode_literals, print_function\n",
    "\n",
    "import plac\n",
    "import random\n",
    "from pathlib import Path\n",
    "import spacy\n",
    "from spacy.util import minibatch, compounding\n",
    "from tqdm.auto import tqdm"
   ]
  },
  {
   "cell_type": "code",
   "execution_count": 2,
   "metadata": {},
   "outputs": [],
   "source": [
    "from spacy.gold import GoldCorpus"
   ]
  },
  {
   "cell_type": "code",
   "execution_count": 3,
   "metadata": {},
   "outputs": [
    {
     "data": {
      "text/plain": [
       "True"
      ]
     },
     "execution_count": 3,
     "metadata": {},
     "output_type": "execute_result"
    }
   ],
   "source": [
    "CFG = {'device': 0, 'cpu_count': 4}\n",
    "TESTS = False\n",
    "spacy.require_gpu()"
   ]
  },
  {
   "cell_type": "code",
   "execution_count": 4,
   "metadata": {},
   "outputs": [],
   "source": [
    "g=GoldCorpus('../../data/UD_Russian-SynTagRus/ru_syntagrus-ud-train.json', \n",
    "             '../../data/UD_Russian-SynTagRus/ru_syntagrus-ud-test.json')"
   ]
  },
  {
   "cell_type": "code",
   "execution_count": 5,
   "metadata": {},
   "outputs": [],
   "source": [
    "g.limit=None"
   ]
  },
  {
   "cell_type": "code",
   "execution_count": 6,
   "metadata": {},
   "outputs": [],
   "source": [
    "# from importlib import reload\n",
    "# import utils.corpus\n",
    "# reload(utils.corpus)"
   ]
  },
  {
   "cell_type": "code",
   "execution_count": 7,
   "metadata": {},
   "outputs": [],
   "source": [
    "from utils.corpus import Corpus, tag_morphology"
   ]
  },
  {
   "cell_type": "code",
   "execution_count": 8,
   "metadata": {},
   "outputs": [],
   "source": [
    "SynTagRus = Corpus.from_gold('ru', g)"
   ]
  },
  {
   "cell_type": "code",
   "execution_count": 9,
   "metadata": {},
   "outputs": [
    {
     "data": {
      "text/plain": [
       "['ADJ__Animacy=Anim|Case=Acc|Degree=Pos|Gender=Masc|Number=Sing',\n",
       " 'ADJ__Animacy=Anim|Case=Acc|Degree=Pos|Number=Plur',\n",
       " 'ADJ__Animacy=Anim|Case=Acc|Degree=Sup|Gender=Masc|Number=Sing',\n",
       " 'ADJ__Animacy=Anim|Case=Nom|Degree=Pos|Number=Plur',\n",
       " 'ADJ__Animacy=Inan|Case=Acc|Degree=Pos|Gender=Masc|Number=Sing']"
      ]
     },
     "metadata": {},
     "output_type": "display_data"
    },
    {
     "data": {
      "text/plain": [
       "['ROOT', 'acl', 'acl:relcl', 'acl:relcl||conj', 'acl:relcl||det']"
      ]
     },
     "metadata": {},
     "output_type": "display_data"
    },
    {
     "data": {
      "text/plain": [
       "[]"
      ]
     },
     "metadata": {},
     "output_type": "display_data"
    }
   ],
   "source": [
    "display(sorted(SynTagRus.ds_train.pos)[:5])\n",
    "display(sorted(SynTagRus.ds_train.dep)[:5])\n",
    "display(sorted(SynTagRus.ds_train.ner)[:5])"
   ]
  },
  {
   "cell_type": "code",
   "execution_count": 10,
   "metadata": {},
   "outputs": [
    {
     "data": {
      "application/vnd.jupyter.widget-view+json": {
       "model_id": "535e04f4b38847628d26c49bfcaa9851",
       "version_major": 2,
       "version_minor": 0
      },
      "text/plain": [
       "HBox(children=(FloatProgress(value=1.0, bar_style='info', max=1.0), HTML(value='')))"
      ]
     },
     "metadata": {},
     "output_type": "display_data"
    },
    {
     "name": "stdout",
     "output_type": "stream",
     "text": [
      "True\n"
     ]
    },
    {
     "data": {
      "text/html": [
       "<div>\n",
       "<style scoped>\n",
       "    .dataframe tbody tr th:only-of-type {\n",
       "        vertical-align: middle;\n",
       "    }\n",
       "\n",
       "    .dataframe tbody tr th {\n",
       "        vertical-align: top;\n",
       "    }\n",
       "\n",
       "    .dataframe thead th {\n",
       "        text-align: right;\n",
       "    }\n",
       "</style>\n",
       "<table border=\"1\" class=\"dataframe\">\n",
       "  <thead>\n",
       "    <tr style=\"text-align: right;\">\n",
       "      <th></th>\n",
       "      <th>0</th>\n",
       "      <th>1</th>\n",
       "      <th>2</th>\n",
       "      <th>3</th>\n",
       "      <th>4</th>\n",
       "      <th>5</th>\n",
       "    </tr>\n",
       "  </thead>\n",
       "  <tbody>\n",
       "    <tr>\n",
       "      <th>0</th>\n",
       "      <td>Последующие</td>\n",
       "      <td>1</td>\n",
       "      <td>amod</td>\n",
       "      <td>ADJ</td>\n",
       "      <td>ADJ__Case=Nom|Degree=Pos|Number=Plur</td>\n",
       "      <td>-</td>\n",
       "    </tr>\n",
       "    <tr>\n",
       "      <th>1</th>\n",
       "      <td>рассуждения</td>\n",
       "      <td>15</td>\n",
       "      <td>nsubj</td>\n",
       "      <td>NOUN</td>\n",
       "      <td>NOUN__Animacy=Inan|Case=Nom|Gender=Neut|Number...</td>\n",
       "      <td>-</td>\n",
       "    </tr>\n",
       "    <tr>\n",
       "      <th>2</th>\n",
       "      <td>,</td>\n",
       "      <td>4</td>\n",
       "      <td>punct</td>\n",
       "      <td>PUNCT</td>\n",
       "      <td>PUNCT___</td>\n",
       "      <td>-</td>\n",
       "    </tr>\n",
       "    <tr>\n",
       "      <th>3</th>\n",
       "      <td>поневоле</td>\n",
       "      <td>4</td>\n",
       "      <td>advmod</td>\n",
       "      <td>ADV</td>\n",
       "      <td>ADV__Degree=Pos</td>\n",
       "      <td>-</td>\n",
       "    </tr>\n",
       "    <tr>\n",
       "      <th>4</th>\n",
       "      <td>вовлекающие</td>\n",
       "      <td>1</td>\n",
       "      <td>acl</td>\n",
       "      <td>VERB</td>\n",
       "      <td>VERB__Aspect=Imp|Case=Nom|Number=Plur|Tense=Pr...</td>\n",
       "      <td>-</td>\n",
       "    </tr>\n",
       "    <tr>\n",
       "      <th>5</th>\n",
       "      <td>в</td>\n",
       "      <td>6</td>\n",
       "      <td>case</td>\n",
       "      <td>ADP</td>\n",
       "      <td>ADP___</td>\n",
       "      <td>-</td>\n",
       "    </tr>\n",
       "    <tr>\n",
       "      <th>6</th>\n",
       "      <td>рассмотрение</td>\n",
       "      <td>4</td>\n",
       "      <td>obl</td>\n",
       "      <td>NOUN</td>\n",
       "      <td>NOUN__Animacy=Inan|Case=Acc|Gender=Neut|Number...</td>\n",
       "      <td>-</td>\n",
       "    </tr>\n",
       "    <tr>\n",
       "      <th>7</th>\n",
       "      <td>такой</td>\n",
       "      <td>8</td>\n",
       "      <td>det</td>\n",
       "      <td>DET</td>\n",
       "      <td>DET__Case=Acc|Gender=Masc|Number=Sing</td>\n",
       "      <td>-</td>\n",
       "    </tr>\n",
       "    <tr>\n",
       "      <th>8</th>\n",
       "      <td>объект</td>\n",
       "      <td>4</td>\n",
       "      <td>obj</td>\n",
       "      <td>NOUN</td>\n",
       "      <td>NOUN__Animacy=Inan|Case=Acc|Gender=Masc|Number...</td>\n",
       "      <td>-</td>\n",
       "    </tr>\n",
       "    <tr>\n",
       "      <th>9</th>\n",
       "      <td>анализа</td>\n",
       "      <td>8</td>\n",
       "      <td>nmod</td>\n",
       "      <td>NOUN</td>\n",
       "      <td>NOUN__Animacy=Inan|Case=Gen|Gender=Masc|Number...</td>\n",
       "      <td>-</td>\n",
       "    </tr>\n",
       "    <tr>\n",
       "      <th>10</th>\n",
       "      <td>,</td>\n",
       "      <td>12</td>\n",
       "      <td>punct</td>\n",
       "      <td>PUNCT</td>\n",
       "      <td>PUNCT___</td>\n",
       "      <td>-</td>\n",
       "    </tr>\n",
       "    <tr>\n",
       "      <th>11</th>\n",
       "      <td>как</td>\n",
       "      <td>12</td>\n",
       "      <td>mark</td>\n",
       "      <td>SCONJ</td>\n",
       "      <td>SCONJ___</td>\n",
       "      <td>-</td>\n",
       "    </tr>\n",
       "    <tr>\n",
       "      <th>12</th>\n",
       "      <td>Медведев</td>\n",
       "      <td>8</td>\n",
       "      <td>obl||det</td>\n",
       "      <td>PROPN</td>\n",
       "      <td>PROPN__Animacy=Anim|Case=Nom|Gender=Masc|Numbe...</td>\n",
       "      <td>-</td>\n",
       "    </tr>\n",
       "    <tr>\n",
       "      <th>13</th>\n",
       "      <td>,</td>\n",
       "      <td>12</td>\n",
       "      <td>punct</td>\n",
       "      <td>PUNCT</td>\n",
       "      <td>PUNCT___</td>\n",
       "      <td>-</td>\n",
       "    </tr>\n",
       "    <tr>\n",
       "      <th>14</th>\n",
       "      <td>не</td>\n",
       "      <td>15</td>\n",
       "      <td>advmod</td>\n",
       "      <td>PART</td>\n",
       "      <td>PART___</td>\n",
       "      <td>-</td>\n",
       "    </tr>\n",
       "    <tr>\n",
       "      <th>15</th>\n",
       "      <td>являются</td>\n",
       "      <td>15</td>\n",
       "      <td>ROOT</td>\n",
       "      <td>VERB</td>\n",
       "      <td>VERB__Aspect=Imp|Mood=Ind|Number=Plur|Person=3...</td>\n",
       "      <td>-</td>\n",
       "    </tr>\n",
       "    <tr>\n",
       "      <th>16</th>\n",
       "      <td>попыткой</td>\n",
       "      <td>15</td>\n",
       "      <td>obl</td>\n",
       "      <td>NOUN</td>\n",
       "      <td>NOUN__Animacy=Inan|Case=Ins|Gender=Fem|Number=...</td>\n",
       "      <td>-</td>\n",
       "    </tr>\n",
       "    <tr>\n",
       "      <th>17</th>\n",
       "      <td>предсказать</td>\n",
       "      <td>16</td>\n",
       "      <td>obl</td>\n",
       "      <td>VERB</td>\n",
       "      <td>VERB__Aspect=Perf|VerbForm=Inf|Voice=Act</td>\n",
       "      <td>-</td>\n",
       "    </tr>\n",
       "    <tr>\n",
       "      <th>18</th>\n",
       "      <td>его</td>\n",
       "      <td>19</td>\n",
       "      <td>det</td>\n",
       "      <td>DET</td>\n",
       "      <td>DET___</td>\n",
       "      <td>-</td>\n",
       "    </tr>\n",
       "    <tr>\n",
       "      <th>19</th>\n",
       "      <td>судьбу</td>\n",
       "      <td>17</td>\n",
       "      <td>obj</td>\n",
       "      <td>NOUN</td>\n",
       "      <td>NOUN__Animacy=Inan|Case=Acc|Gender=Fem|Number=...</td>\n",
       "      <td>-</td>\n",
       "    </tr>\n",
       "    <tr>\n",
       "      <th>20</th>\n",
       "      <td>.</td>\n",
       "      <td>15</td>\n",
       "      <td>punct</td>\n",
       "      <td>PUNCT</td>\n",
       "      <td>PUNCT___</td>\n",
       "      <td>-</td>\n",
       "    </tr>\n",
       "  </tbody>\n",
       "</table>\n",
       "</div>"
      ],
      "text/plain": [
       "               0   1         2      3  \\\n",
       "0    Последующие   1      amod    ADJ   \n",
       "1    рассуждения  15     nsubj   NOUN   \n",
       "2              ,   4     punct  PUNCT   \n",
       "3       поневоле   4    advmod    ADV   \n",
       "4    вовлекающие   1       acl   VERB   \n",
       "5              в   6      case    ADP   \n",
       "6   рассмотрение   4       obl   NOUN   \n",
       "7          такой   8       det    DET   \n",
       "8         объект   4       obj   NOUN   \n",
       "9        анализа   8      nmod   NOUN   \n",
       "10             ,  12     punct  PUNCT   \n",
       "11           как  12      mark  SCONJ   \n",
       "12      Медведев   8  obl||det  PROPN   \n",
       "13             ,  12     punct  PUNCT   \n",
       "14            не  15    advmod   PART   \n",
       "15      являются  15      ROOT   VERB   \n",
       "16      попыткой  15       obl   NOUN   \n",
       "17   предсказать  16       obl   VERB   \n",
       "18           его  19       det    DET   \n",
       "19        судьбу  17       obj   NOUN   \n",
       "20             .  15     punct  PUNCT   \n",
       "\n",
       "                                                    4  5  \n",
       "0                ADJ__Case=Nom|Degree=Pos|Number=Plur  -  \n",
       "1   NOUN__Animacy=Inan|Case=Nom|Gender=Neut|Number...  -  \n",
       "2                                            PUNCT___  -  \n",
       "3                                     ADV__Degree=Pos  -  \n",
       "4   VERB__Aspect=Imp|Case=Nom|Number=Plur|Tense=Pr...  -  \n",
       "5                                              ADP___  -  \n",
       "6   NOUN__Animacy=Inan|Case=Acc|Gender=Neut|Number...  -  \n",
       "7               DET__Case=Acc|Gender=Masc|Number=Sing  -  \n",
       "8   NOUN__Animacy=Inan|Case=Acc|Gender=Masc|Number...  -  \n",
       "9   NOUN__Animacy=Inan|Case=Gen|Gender=Masc|Number...  -  \n",
       "10                                           PUNCT___  -  \n",
       "11                                           SCONJ___  -  \n",
       "12  PROPN__Animacy=Anim|Case=Nom|Gender=Masc|Numbe...  -  \n",
       "13                                           PUNCT___  -  \n",
       "14                                            PART___  -  \n",
       "15  VERB__Aspect=Imp|Mood=Ind|Number=Plur|Person=3...  -  \n",
       "16  NOUN__Animacy=Inan|Case=Ins|Gender=Fem|Number=...  -  \n",
       "17           VERB__Aspect=Perf|VerbForm=Inf|Voice=Act  -  \n",
       "18                                             DET___  -  \n",
       "19  NOUN__Animacy=Inan|Case=Acc|Gender=Fem|Number=...  -  \n",
       "20                                           PUNCT___  -  "
      ]
     },
     "metadata": {},
     "output_type": "display_data"
    }
   ],
   "source": [
    "import pandas\n",
    "nlp = spacy.blank('ru')\n",
    "for d, gp in tqdm(SynTagRus.ds_train.iter(nlp, limit=2)):\n",
    "    print(gp.is_projective)\n",
    "    pos_list = [tag_morphology(x)['POS'] for x in gp.tags]\n",
    "    display(pandas.DataFrame(zip(d, gp.heads, gp.labels, pos_list, gp.tags, gp.ner)))\n",
    "    break"
   ]
  },
  {
   "cell_type": "code",
   "execution_count": 11,
   "metadata": {},
   "outputs": [
    {
     "name": "stdout",
     "output_type": "stream",
     "text": [
      "brackets : None\n",
      "cand_to_gold : [0, 1, 2, 3, 4, 5, 6, 7, 8, 9, 10, 11, 12, 13, 14, 15, 16, 17, 18, 19, 20]\n",
      "cats : {}\n",
      "ents : None\n",
      "gold_to_cand : [0, 1, 2, 3, 4, 5, 6, 7, 8, 9, 10, 11, 12, 13, 14, 15, 16, 17, 18, 19, 20]\n",
      "heads : [1, 15, 4, 4, 1, 6, 4, 8, 4, 8, 12, 12, 8, 12, 15, 15, 15, 16, 19, 17, 15]\n",
      "is_projective : True\n",
      "labels : ['amod', 'nsubj', 'punct', 'advmod', 'acl', 'case', 'obl', 'det', 'obj', 'nmod', 'punct', 'mark', 'obl||det', 'punct', 'advmod', 'ROOT', 'obl', 'obl', 'det', 'obj', 'punct']\n",
      "links : None\n",
      "loss : 0\n",
      "ner : ['-', '-', '-', '-', '-', '-', '-', '-', '-', '-', '-', '-', '-', '-', '-', '-', '-', '-', '-', '-', '-']\n",
      "orig_annot : [(0, 'Последующие', 'ADJ__Case=Nom|Degree=Pos|Number=Plur', 1, 'amod', '-'), (1, 'рассуждения', 'NOUN__Animacy=Inan|Case=Nom|Gender=Neut|Number=Plur', 15, 'nsubj', '-'), (2, ',', 'PUNCT___', 4, 'punct', '-'), (3, 'поневоле', 'ADV__Degree=Pos', 4, 'advmod', '-'), (4, 'вовлекающие', 'VERB__Aspect=Imp|Case=Nom|Number=Plur|Tense=Pres|VerbForm=Part|Voice=Act', 1, 'acl', '-'), (5, 'в', 'ADP___', 6, 'case', '-'), (6, 'рассмотрение', 'NOUN__Animacy=Inan|Case=Acc|Gender=Neut|Number=Sing', 4, 'obl', '-'), (7, 'такой', 'DET__Case=Acc|Gender=Masc|Number=Sing', 8, 'det', '-'), (8, 'объект', 'NOUN__Animacy=Inan|Case=Acc|Gender=Masc|Number=Sing', 4, 'obj', '-'), (9, 'анализа', 'NOUN__Animacy=Inan|Case=Gen|Gender=Masc|Number=Sing', 8, 'nmod', '-'), (10, ',', 'PUNCT___', 12, 'punct', '-'), (11, 'как', 'SCONJ___', 12, 'mark', '-'), (12, 'Медведев', 'PROPN__Animacy=Anim|Case=Nom|Gender=Masc|Number=Sing', 8, 'obl||det', '-'), (13, ',', 'PUNCT___', 12, 'punct', '-'), (14, 'не', 'PART___', 15, 'advmod', '-'), (15, 'являются', 'VERB__Aspect=Imp|Mood=Ind|Number=Plur|Person=3|Tense=Pres|VerbForm=Fin|Voice=Mid', 15, 'ROOT', '-'), (16, 'попыткой', 'NOUN__Animacy=Inan|Case=Ins|Gender=Fem|Number=Sing', 15, 'obl', '-'), (17, 'предсказать', 'VERB__Aspect=Perf|VerbForm=Inf|Voice=Act', 16, 'obl', '-'), (18, 'его', 'DET___', 19, 'det', '-'), (19, 'судьбу', 'NOUN__Animacy=Inan|Case=Acc|Gender=Fem|Number=Sing', 17, 'obj', '-'), (20, '.', 'PUNCT___', 15, 'punct', '-')]\n",
      "orths : None\n",
      "sent_starts : [0, 0, 0, 0, 0, 0, 0, 0, 0, 0, 0, 0, 0, 0, 0, 0, 0, 0, 0, 0, 0]\n",
      "tags : ['ADJ__Case=Nom|Degree=Pos|Number=Plur', 'NOUN__Animacy=Inan|Case=Nom|Gender=Neut|Number=Plur', 'PUNCT___', 'ADV__Degree=Pos', 'VERB__Aspect=Imp|Case=Nom|Number=Plur|Tense=Pres|VerbForm=Part|Voice=Act', 'ADP___', 'NOUN__Animacy=Inan|Case=Acc|Gender=Neut|Number=Sing', 'DET__Case=Acc|Gender=Masc|Number=Sing', 'NOUN__Animacy=Inan|Case=Acc|Gender=Masc|Number=Sing', 'NOUN__Animacy=Inan|Case=Gen|Gender=Masc|Number=Sing', 'PUNCT___', 'SCONJ___', 'PROPN__Animacy=Anim|Case=Nom|Gender=Masc|Number=Sing', 'PUNCT___', 'PART___', 'VERB__Aspect=Imp|Mood=Ind|Number=Plur|Person=3|Tense=Pres|VerbForm=Fin|Voice=Mid', 'NOUN__Animacy=Inan|Case=Ins|Gender=Fem|Number=Sing', 'VERB__Aspect=Perf|VerbForm=Inf|Voice=Act', 'DET___', 'NOUN__Animacy=Inan|Case=Acc|Gender=Fem|Number=Sing', 'PUNCT___']\n",
      "words : ['Последующие', 'рассуждения', ',', 'поневоле', 'вовлекающие', 'в', 'рассмотрение', 'такой', 'объект', 'анализа', ',', 'как', 'Медведев', ',', 'не', 'являются', 'попыткой', 'предсказать', 'его', 'судьбу', '.']\n"
     ]
    }
   ],
   "source": [
    "for x in dir(gp):\n",
    "    if not '__' in x and not callable(getattr(gp, x)):\n",
    "        print(x, ':', getattr(gp, x))"
   ]
  },
  {
   "cell_type": "code",
   "execution_count": null,
   "metadata": {},
   "outputs": [],
   "source": []
  }
 ],
 "metadata": {
  "kernelspec": {
   "display_name": "Python 3",
   "language": "python",
   "name": "python3"
  },
  "language_info": {
   "codemirror_mode": {
    "name": "ipython",
    "version": 3
   },
   "file_extension": ".py",
   "mimetype": "text/x-python",
   "name": "python",
   "nbconvert_exporter": "python",
   "pygments_lexer": "ipython3",
   "version": "3.6.8"
  }
 },
 "nbformat": 4,
 "nbformat_minor": 2
}
