{
 "cells": [
  {
   "cell_type": "code",
   "execution_count": 1,
   "metadata": {},
   "outputs": [],
   "source": [
    "import ru2e"
   ]
  },
  {
   "cell_type": "code",
   "execution_count": 2,
   "metadata": {},
   "outputs": [],
   "source": [
    "nlp = ru2e.load_ru2('../../ru2e')"
   ]
  },
  {
   "cell_type": "code",
   "execution_count": 3,
   "metadata": {},
   "outputs": [
    {
     "data": {
      "text/plain": [
       "[(Эй, 'э'),\n",
       " (,, ','),\n",
       " (приветы, 'привет'),\n",
       " (моему, 'мо'),\n",
       " (мирку, 'мирк'),\n",
       " (!, '!')]"
      ]
     },
     "execution_count": 3,
     "metadata": {},
     "output_type": "execute_result"
    }
   ],
   "source": [
    "[(x, x.norm_) for x in nlp.tokenizer('Эй, приветы моему мирку!')]"
   ]
  },
  {
   "cell_type": "code",
   "execution_count": 7,
   "metadata": {},
   "outputs": [
    {
     "data": {
      "text/plain": [
       "[(Эй, 'э', 'эй'),\n",
       " (,, ',', ','),\n",
       " (мы, 'мы', 'мы'),\n",
       " (часто, 'част', 'часто'),\n",
       " (стали, 'стал', 'стали'),\n",
       " (раздавать, 'раздава', 'раздавать'),\n",
       " (приветы, 'привет', 'привет'),\n",
       " (моему, 'мо', 'мой'),\n",
       " (мирку, 'мирк', 'мирок'),\n",
       " (!, '!', '!')]"
      ]
     },
     "execution_count": 7,
     "metadata": {},
     "output_type": "execute_result"
    }
   ],
   "source": [
    "[(x, x.norm_, x.lemma_) for x in nlp('Эй, мы часто стали раздавать приветы моему мирку!')]"
   ]
  },
  {
   "cell_type": "code",
   "execution_count": 4,
   "metadata": {},
   "outputs": [
    {
     "data": {
      "text/plain": [
       "[]"
      ]
     },
     "execution_count": 4,
     "metadata": {},
     "output_type": "execute_result"
    }
   ],
   "source": [
    "nlp.pipeline"
   ]
  },
  {
   "cell_type": "code",
   "execution_count": null,
   "metadata": {},
   "outputs": [],
   "source": []
  }
 ],
 "metadata": {
  "kernelspec": {
   "display_name": "Python 3",
   "language": "python",
   "name": "python3"
  },
  "language_info": {
   "codemirror_mode": {
    "name": "ipython",
    "version": 3
   },
   "file_extension": ".py",
   "mimetype": "text/x-python",
   "name": "python",
   "nbconvert_exporter": "python",
   "pygments_lexer": "ipython3",
   "version": "3.6.8"
  }
 },
 "nbformat": 4,
 "nbformat_minor": 2
}
